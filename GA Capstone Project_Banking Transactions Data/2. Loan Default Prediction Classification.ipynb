{
 "cells": [
  {
   "cell_type": "markdown",
   "metadata": {},
   "source": [
    "### The Data Science Process\n",
    "**4. Preprocessing and Modeling**"
   ]
  },
  {
   "cell_type": "markdown",
   "metadata": {},
   "source": [
    "**Loan Default Prediction - Classification**"
   ]
  },
  {
   "cell_type": "code",
   "execution_count": 719,
   "metadata": {},
   "outputs": [],
   "source": [
    "import pandas as pd\n",
    "import numpy as np\n",
    "\n",
    "import matplotlib.pyplot as plt\n",
    "%matplotlib inline\n",
    "\n",
    "from sklearn.model_selection import train_test_split\n",
    "\n",
    "from sklearn.linear_model import LogisticRegression\n",
    "from sklearn.ensemble import GradientBoostingClassifier, RandomForestClassifier\n",
    "\n",
    "from sklearn.model_selection import train_test_split, GridSearchCV, cross_val_score\n",
    "from sklearn.metrics import roc_auc_score, accuracy_score\n",
    "from sklearn.metrics import confusion_matrix, plot_confusion_matrix, accuracy_score, plot_roc_curve, roc_auc_score, recall_score"
   ]
  },
  {
   "cell_type": "code",
   "execution_count": 720,
   "metadata": {},
   "outputs": [],
   "source": [
    "import_path = r'.\\datasets\\df_order.csv'\n",
    "df_order = pd.read_csv(import_path)"
   ]
  },
  {
   "cell_type": "code",
   "execution_count": 721,
   "metadata": {},
   "outputs": [],
   "source": [
    "import_path = r'.\\datasets\\df_loan.csv'\n",
    "df_loan = pd.read_csv(import_path)"
   ]
  },
  {
   "cell_type": "code",
   "execution_count": 722,
   "metadata": {},
   "outputs": [
    {
     "name": "stderr",
     "output_type": "stream",
     "text": [
      "C:\\Users\\engso\\anaconda3\\lib\\site-packages\\IPython\\core\\interactiveshell.py:3072: DtypeWarning: Columns (4) have mixed types.Specify dtype option on import or set low_memory=False.\n",
      "  interactivity=interactivity, compiler=compiler, result=result)\n"
     ]
    }
   ],
   "source": [
    "import_path = r'.\\datasets\\df_trans.csv'\n",
    "df_trans = pd.read_csv(import_path)"
   ]
  },
  {
   "cell_type": "code",
   "execution_count": 723,
   "metadata": {},
   "outputs": [],
   "source": [
    "import_path = r'.\\datasets\\df_district.csv'\n",
    "df_district = pd.read_csv(import_path)"
   ]
  },
  {
   "cell_type": "code",
   "execution_count": 724,
   "metadata": {},
   "outputs": [],
   "source": [
    "import_path = r'.\\datasets\\df_disp.csv'\n",
    "df_disp = pd.read_csv(import_path)"
   ]
  },
  {
   "cell_type": "code",
   "execution_count": 725,
   "metadata": {},
   "outputs": [],
   "source": [
    "import_path = r'.\\datasets\\df_account.csv'\n",
    "df_account = pd.read_csv(import_path)"
   ]
  },
  {
   "cell_type": "code",
   "execution_count": 726,
   "metadata": {},
   "outputs": [],
   "source": [
    "import_path = r'.\\datasets\\df_client.csv'\n",
    "df_client = pd.read_csv(import_path)"
   ]
  },
  {
   "cell_type": "code",
   "execution_count": 727,
   "metadata": {},
   "outputs": [],
   "source": [
    "import_path = r'.\\datasets\\df_card.csv'\n",
    "df_card = pd.read_csv(import_path)"
   ]
  },
  {
   "cell_type": "code",
   "execution_count": 728,
   "metadata": {},
   "outputs": [
    {
     "data": {
      "text/html": [
       "<div>\n",
       "<style scoped>\n",
       "    .dataframe tbody tr th:only-of-type {\n",
       "        vertical-align: middle;\n",
       "    }\n",
       "\n",
       "    .dataframe tbody tr th {\n",
       "        vertical-align: top;\n",
       "    }\n",
       "\n",
       "    .dataframe thead th {\n",
       "        text-align: right;\n",
       "    }\n",
       "</style>\n",
       "<table border=\"1\" class=\"dataframe\">\n",
       "  <thead>\n",
       "    <tr style=\"text-align: right;\">\n",
       "      <th></th>\n",
       "      <th>trans_id</th>\n",
       "      <th>account_id</th>\n",
       "      <th>amount</th>\n",
       "      <th>balance</th>\n",
       "      <th>bank</th>\n",
       "      <th>account</th>\n",
       "      <th>trans_type</th>\n",
       "      <th>trans_operation</th>\n",
       "      <th>trans_k_symbol</th>\n",
       "      <th>amount_multiplier</th>\n",
       "      <th>trans_amount</th>\n",
       "    </tr>\n",
       "  </thead>\n",
       "  <tbody>\n",
       "    <tr>\n",
       "      <th>0</th>\n",
       "      <td>695247</td>\n",
       "      <td>2378</td>\n",
       "      <td>700.0</td>\n",
       "      <td>700.0</td>\n",
       "      <td>NaN</td>\n",
       "      <td>NaN</td>\n",
       "      <td>CREDIT</td>\n",
       "      <td>CREDIT_IN_CASH</td>\n",
       "      <td>UNKNOWN</td>\n",
       "      <td>1</td>\n",
       "      <td>700.0</td>\n",
       "    </tr>\n",
       "    <tr>\n",
       "      <th>1</th>\n",
       "      <td>171812</td>\n",
       "      <td>576</td>\n",
       "      <td>900.0</td>\n",
       "      <td>900.0</td>\n",
       "      <td>NaN</td>\n",
       "      <td>NaN</td>\n",
       "      <td>CREDIT</td>\n",
       "      <td>CREDIT_IN_CASH</td>\n",
       "      <td>UNKNOWN</td>\n",
       "      <td>1</td>\n",
       "      <td>900.0</td>\n",
       "    </tr>\n",
       "    <tr>\n",
       "      <th>2</th>\n",
       "      <td>207264</td>\n",
       "      <td>704</td>\n",
       "      <td>1000.0</td>\n",
       "      <td>1000.0</td>\n",
       "      <td>NaN</td>\n",
       "      <td>NaN</td>\n",
       "      <td>CREDIT</td>\n",
       "      <td>CREDIT_IN_CASH</td>\n",
       "      <td>UNKNOWN</td>\n",
       "      <td>1</td>\n",
       "      <td>1000.0</td>\n",
       "    </tr>\n",
       "    <tr>\n",
       "      <th>3</th>\n",
       "      <td>1117247</td>\n",
       "      <td>3818</td>\n",
       "      <td>600.0</td>\n",
       "      <td>600.0</td>\n",
       "      <td>NaN</td>\n",
       "      <td>NaN</td>\n",
       "      <td>CREDIT</td>\n",
       "      <td>CREDIT_IN_CASH</td>\n",
       "      <td>UNKNOWN</td>\n",
       "      <td>1</td>\n",
       "      <td>600.0</td>\n",
       "    </tr>\n",
       "    <tr>\n",
       "      <th>4</th>\n",
       "      <td>579373</td>\n",
       "      <td>1972</td>\n",
       "      <td>400.0</td>\n",
       "      <td>400.0</td>\n",
       "      <td>NaN</td>\n",
       "      <td>NaN</td>\n",
       "      <td>CREDIT</td>\n",
       "      <td>CREDIT_IN_CASH</td>\n",
       "      <td>UNKNOWN</td>\n",
       "      <td>1</td>\n",
       "      <td>400.0</td>\n",
       "    </tr>\n",
       "  </tbody>\n",
       "</table>\n",
       "</div>"
      ],
      "text/plain": [
       "   trans_id  account_id  amount  balance bank  account trans_type  \\\n",
       "0    695247        2378   700.0    700.0  NaN      NaN     CREDIT   \n",
       "1    171812         576   900.0    900.0  NaN      NaN     CREDIT   \n",
       "2    207264         704  1000.0   1000.0  NaN      NaN     CREDIT   \n",
       "3   1117247        3818   600.0    600.0  NaN      NaN     CREDIT   \n",
       "4    579373        1972   400.0    400.0  NaN      NaN     CREDIT   \n",
       "\n",
       "  trans_operation trans_k_symbol  amount_multiplier  trans_amount  \n",
       "0  CREDIT_IN_CASH        UNKNOWN                  1         700.0  \n",
       "1  CREDIT_IN_CASH        UNKNOWN                  1         900.0  \n",
       "2  CREDIT_IN_CASH        UNKNOWN                  1        1000.0  \n",
       "3  CREDIT_IN_CASH        UNKNOWN                  1         600.0  \n",
       "4  CREDIT_IN_CASH        UNKNOWN                  1         400.0  "
      ]
     },
     "execution_count": 728,
     "metadata": {},
     "output_type": "execute_result"
    }
   ],
   "source": [
    "df_trans.head()"
   ]
  },
  {
   "cell_type": "code",
   "execution_count": 729,
   "metadata": {},
   "outputs": [
    {
     "data": {
      "text/plain": [
       "(1056320, 11)"
      ]
     },
     "execution_count": 729,
     "metadata": {},
     "output_type": "execute_result"
    }
   ],
   "source": [
    "df_trans.shape"
   ]
  },
  {
   "cell_type": "code",
   "execution_count": 730,
   "metadata": {},
   "outputs": [
    {
     "data": {
      "text/plain": [
       "trans_id               int64\n",
       "account_id             int64\n",
       "amount               float64\n",
       "balance              float64\n",
       "bank                  object\n",
       "account              float64\n",
       "trans_type            object\n",
       "trans_operation       object\n",
       "trans_k_symbol        object\n",
       "amount_multiplier      int64\n",
       "trans_amount         float64\n",
       "dtype: object"
      ]
     },
     "execution_count": 730,
     "metadata": {},
     "output_type": "execute_result"
    }
   ],
   "source": [
    "df_trans.dtypes"
   ]
  },
  {
   "cell_type": "code",
   "execution_count": 731,
   "metadata": {},
   "outputs": [
    {
     "data": {
      "text/plain": [
       "trans_id                  0\n",
       "account_id                0\n",
       "amount                    0\n",
       "balance                   0\n",
       "bank                 782812\n",
       "account              760931\n",
       "trans_type                0\n",
       "trans_operation           0\n",
       "trans_k_symbol            0\n",
       "amount_multiplier         0\n",
       "trans_amount              0\n",
       "dtype: int64"
      ]
     },
     "execution_count": 731,
     "metadata": {},
     "output_type": "execute_result"
    }
   ],
   "source": [
    "df_trans.isnull().sum()"
   ]
  },
  {
   "cell_type": "code",
   "execution_count": 732,
   "metadata": {},
   "outputs": [
    {
     "data": {
      "text/html": [
       "<div>\n",
       "<style scoped>\n",
       "    .dataframe tbody tr th:only-of-type {\n",
       "        vertical-align: middle;\n",
       "    }\n",
       "\n",
       "    .dataframe tbody tr th {\n",
       "        vertical-align: top;\n",
       "    }\n",
       "\n",
       "    .dataframe thead th {\n",
       "        text-align: right;\n",
       "    }\n",
       "</style>\n",
       "<table border=\"1\" class=\"dataframe\">\n",
       "  <thead>\n",
       "    <tr style=\"text-align: right;\">\n",
       "      <th></th>\n",
       "      <th>loan_id</th>\n",
       "      <th>account_id</th>\n",
       "      <th>date</th>\n",
       "      <th>loan_amount</th>\n",
       "      <th>loan_duration</th>\n",
       "      <th>monthly_loan_payment</th>\n",
       "      <th>loan_status</th>\n",
       "    </tr>\n",
       "  </thead>\n",
       "  <tbody>\n",
       "    <tr>\n",
       "      <th>0</th>\n",
       "      <td>5314</td>\n",
       "      <td>1787</td>\n",
       "      <td>1993-07-05</td>\n",
       "      <td>96396</td>\n",
       "      <td>12</td>\n",
       "      <td>8033.0</td>\n",
       "      <td>B</td>\n",
       "    </tr>\n",
       "    <tr>\n",
       "      <th>1</th>\n",
       "      <td>5316</td>\n",
       "      <td>1801</td>\n",
       "      <td>1993-07-11</td>\n",
       "      <td>165960</td>\n",
       "      <td>36</td>\n",
       "      <td>4610.0</td>\n",
       "      <td>A</td>\n",
       "    </tr>\n",
       "    <tr>\n",
       "      <th>2</th>\n",
       "      <td>6863</td>\n",
       "      <td>9188</td>\n",
       "      <td>1993-07-28</td>\n",
       "      <td>127080</td>\n",
       "      <td>60</td>\n",
       "      <td>2118.0</td>\n",
       "      <td>A</td>\n",
       "    </tr>\n",
       "    <tr>\n",
       "      <th>3</th>\n",
       "      <td>5325</td>\n",
       "      <td>1843</td>\n",
       "      <td>1993-08-03</td>\n",
       "      <td>105804</td>\n",
       "      <td>36</td>\n",
       "      <td>2939.0</td>\n",
       "      <td>A</td>\n",
       "    </tr>\n",
       "    <tr>\n",
       "      <th>4</th>\n",
       "      <td>7240</td>\n",
       "      <td>11013</td>\n",
       "      <td>1993-09-06</td>\n",
       "      <td>274740</td>\n",
       "      <td>60</td>\n",
       "      <td>4579.0</td>\n",
       "      <td>A</td>\n",
       "    </tr>\n",
       "  </tbody>\n",
       "</table>\n",
       "</div>"
      ],
      "text/plain": [
       "   loan_id  account_id        date  loan_amount  loan_duration  \\\n",
       "0     5314        1787  1993-07-05        96396             12   \n",
       "1     5316        1801  1993-07-11       165960             36   \n",
       "2     6863        9188  1993-07-28       127080             60   \n",
       "3     5325        1843  1993-08-03       105804             36   \n",
       "4     7240       11013  1993-09-06       274740             60   \n",
       "\n",
       "   monthly_loan_payment loan_status  \n",
       "0                8033.0           B  \n",
       "1                4610.0           A  \n",
       "2                2118.0           A  \n",
       "3                2939.0           A  \n",
       "4                4579.0           A  "
      ]
     },
     "execution_count": 732,
     "metadata": {},
     "output_type": "execute_result"
    }
   ],
   "source": [
    "df_loan.head()"
   ]
  },
  {
   "cell_type": "code",
   "execution_count": 733,
   "metadata": {},
   "outputs": [
    {
     "data": {
      "text/plain": [
       "(682, 7)"
      ]
     },
     "execution_count": 733,
     "metadata": {},
     "output_type": "execute_result"
    }
   ],
   "source": [
    "df_loan.shape"
   ]
  },
  {
   "cell_type": "code",
   "execution_count": 734,
   "metadata": {},
   "outputs": [
    {
     "data": {
      "text/plain": [
       "loan_id                   int64\n",
       "account_id                int64\n",
       "date                     object\n",
       "loan_amount               int64\n",
       "loan_duration             int64\n",
       "monthly_loan_payment    float64\n",
       "loan_status              object\n",
       "dtype: object"
      ]
     },
     "execution_count": 734,
     "metadata": {},
     "output_type": "execute_result"
    }
   ],
   "source": [
    "df_loan.dtypes"
   ]
  },
  {
   "cell_type": "code",
   "execution_count": 735,
   "metadata": {},
   "outputs": [
    {
     "data": {
      "text/plain": [
       "loan_id                 0\n",
       "account_id              0\n",
       "date                    0\n",
       "loan_amount             0\n",
       "loan_duration           0\n",
       "monthly_loan_payment    0\n",
       "loan_status             0\n",
       "dtype: int64"
      ]
     },
     "execution_count": 735,
     "metadata": {},
     "output_type": "execute_result"
    }
   ],
   "source": [
    "df_loan.isnull().sum()"
   ]
  },
  {
   "cell_type": "code",
   "execution_count": 736,
   "metadata": {},
   "outputs": [
    {
     "data": {
      "text/html": [
       "<div>\n",
       "<style scoped>\n",
       "    .dataframe tbody tr th:only-of-type {\n",
       "        vertical-align: middle;\n",
       "    }\n",
       "\n",
       "    .dataframe tbody tr th {\n",
       "        vertical-align: top;\n",
       "    }\n",
       "\n",
       "    .dataframe thead th {\n",
       "        text-align: right;\n",
       "    }\n",
       "</style>\n",
       "<table border=\"1\" class=\"dataframe\">\n",
       "  <thead>\n",
       "    <tr style=\"text-align: right;\">\n",
       "      <th></th>\n",
       "      <th>account_id</th>\n",
       "      <th>district_id</th>\n",
       "      <th>statement_freq</th>\n",
       "      <th>date</th>\n",
       "    </tr>\n",
       "  </thead>\n",
       "  <tbody>\n",
       "    <tr>\n",
       "      <th>0</th>\n",
       "      <td>576</td>\n",
       "      <td>55</td>\n",
       "      <td>MONTHLY</td>\n",
       "      <td>1993-01-01</td>\n",
       "    </tr>\n",
       "    <tr>\n",
       "      <th>1</th>\n",
       "      <td>3818</td>\n",
       "      <td>74</td>\n",
       "      <td>MONTHLY</td>\n",
       "      <td>1993-01-01</td>\n",
       "    </tr>\n",
       "    <tr>\n",
       "      <th>2</th>\n",
       "      <td>704</td>\n",
       "      <td>55</td>\n",
       "      <td>MONTHLY</td>\n",
       "      <td>1993-01-01</td>\n",
       "    </tr>\n",
       "    <tr>\n",
       "      <th>3</th>\n",
       "      <td>2378</td>\n",
       "      <td>16</td>\n",
       "      <td>MONTHLY</td>\n",
       "      <td>1993-01-01</td>\n",
       "    </tr>\n",
       "    <tr>\n",
       "      <th>4</th>\n",
       "      <td>2632</td>\n",
       "      <td>24</td>\n",
       "      <td>MONTHLY</td>\n",
       "      <td>1993-01-02</td>\n",
       "    </tr>\n",
       "  </tbody>\n",
       "</table>\n",
       "</div>"
      ],
      "text/plain": [
       "   account_id  district_id statement_freq        date\n",
       "0         576           55        MONTHLY  1993-01-01\n",
       "1        3818           74        MONTHLY  1993-01-01\n",
       "2         704           55        MONTHLY  1993-01-01\n",
       "3        2378           16        MONTHLY  1993-01-01\n",
       "4        2632           24        MONTHLY  1993-01-02"
      ]
     },
     "execution_count": 736,
     "metadata": {},
     "output_type": "execute_result"
    }
   ],
   "source": [
    "df_account.head()"
   ]
  },
  {
   "cell_type": "code",
   "execution_count": 737,
   "metadata": {},
   "outputs": [
    {
     "data": {
      "text/plain": [
       "(4500, 4)"
      ]
     },
     "execution_count": 737,
     "metadata": {},
     "output_type": "execute_result"
    }
   ],
   "source": [
    "df_account.shape"
   ]
  },
  {
   "cell_type": "code",
   "execution_count": 738,
   "metadata": {},
   "outputs": [
    {
     "data": {
      "text/plain": [
       "account_id         int64\n",
       "district_id        int64\n",
       "statement_freq    object\n",
       "date              object\n",
       "dtype: object"
      ]
     },
     "execution_count": 738,
     "metadata": {},
     "output_type": "execute_result"
    }
   ],
   "source": [
    "df_account.dtypes"
   ]
  },
  {
   "cell_type": "code",
   "execution_count": 739,
   "metadata": {},
   "outputs": [
    {
     "data": {
      "text/plain": [
       "account_id        0\n",
       "district_id       0\n",
       "statement_freq    0\n",
       "date              0\n",
       "dtype: int64"
      ]
     },
     "execution_count": 739,
     "metadata": {},
     "output_type": "execute_result"
    }
   ],
   "source": [
    "df_account.isnull().sum()"
   ]
  },
  {
   "cell_type": "code",
   "execution_count": 740,
   "metadata": {},
   "outputs": [
    {
     "data": {
      "text/html": [
       "<div>\n",
       "<style scoped>\n",
       "    .dataframe tbody tr th:only-of-type {\n",
       "        vertical-align: middle;\n",
       "    }\n",
       "\n",
       "    .dataframe tbody tr th {\n",
       "        vertical-align: top;\n",
       "    }\n",
       "\n",
       "    .dataframe thead th {\n",
       "        text-align: right;\n",
       "    }\n",
       "</style>\n",
       "<table border=\"1\" class=\"dataframe\">\n",
       "  <thead>\n",
       "    <tr style=\"text-align: right;\">\n",
       "      <th></th>\n",
       "      <th>district_id</th>\n",
       "      <th>district_name</th>\n",
       "      <th>region</th>\n",
       "      <th>num_inhabitants</th>\n",
       "      <th>num_munipalities_gt499</th>\n",
       "      <th>num_munipalities_500to1999</th>\n",
       "      <th>num_munipalities_2000to9999</th>\n",
       "      <th>num_munipalities_gt10000</th>\n",
       "      <th>num_cities</th>\n",
       "      <th>ratio_urban</th>\n",
       "      <th>average_salary</th>\n",
       "      <th>unemp_rate95</th>\n",
       "      <th>unemp_rate96</th>\n",
       "      <th>num_entrep_per1000</th>\n",
       "      <th>num_crimes95</th>\n",
       "      <th>num_crimes96</th>\n",
       "    </tr>\n",
       "  </thead>\n",
       "  <tbody>\n",
       "    <tr>\n",
       "      <th>0</th>\n",
       "      <td>1</td>\n",
       "      <td>Hl.m. Praha</td>\n",
       "      <td>Prague</td>\n",
       "      <td>1204953</td>\n",
       "      <td>0</td>\n",
       "      <td>0</td>\n",
       "      <td>0</td>\n",
       "      <td>1</td>\n",
       "      <td>1</td>\n",
       "      <td>100.0</td>\n",
       "      <td>12541</td>\n",
       "      <td>0.29</td>\n",
       "      <td>0.43</td>\n",
       "      <td>167</td>\n",
       "      <td>85677</td>\n",
       "      <td>99107</td>\n",
       "    </tr>\n",
       "    <tr>\n",
       "      <th>1</th>\n",
       "      <td>2</td>\n",
       "      <td>Benesov</td>\n",
       "      <td>central Bohemia</td>\n",
       "      <td>88884</td>\n",
       "      <td>80</td>\n",
       "      <td>26</td>\n",
       "      <td>6</td>\n",
       "      <td>2</td>\n",
       "      <td>5</td>\n",
       "      <td>46.7</td>\n",
       "      <td>8507</td>\n",
       "      <td>1.67</td>\n",
       "      <td>1.85</td>\n",
       "      <td>132</td>\n",
       "      <td>2159</td>\n",
       "      <td>2674</td>\n",
       "    </tr>\n",
       "    <tr>\n",
       "      <th>2</th>\n",
       "      <td>3</td>\n",
       "      <td>Beroun</td>\n",
       "      <td>central Bohemia</td>\n",
       "      <td>75232</td>\n",
       "      <td>55</td>\n",
       "      <td>26</td>\n",
       "      <td>4</td>\n",
       "      <td>1</td>\n",
       "      <td>5</td>\n",
       "      <td>41.7</td>\n",
       "      <td>8980</td>\n",
       "      <td>1.95</td>\n",
       "      <td>2.21</td>\n",
       "      <td>111</td>\n",
       "      <td>2824</td>\n",
       "      <td>2813</td>\n",
       "    </tr>\n",
       "    <tr>\n",
       "      <th>3</th>\n",
       "      <td>4</td>\n",
       "      <td>Kladno</td>\n",
       "      <td>central Bohemia</td>\n",
       "      <td>149893</td>\n",
       "      <td>63</td>\n",
       "      <td>29</td>\n",
       "      <td>6</td>\n",
       "      <td>2</td>\n",
       "      <td>6</td>\n",
       "      <td>67.4</td>\n",
       "      <td>9753</td>\n",
       "      <td>4.64</td>\n",
       "      <td>5.05</td>\n",
       "      <td>109</td>\n",
       "      <td>5244</td>\n",
       "      <td>5892</td>\n",
       "    </tr>\n",
       "    <tr>\n",
       "      <th>4</th>\n",
       "      <td>5</td>\n",
       "      <td>Kolin</td>\n",
       "      <td>central Bohemia</td>\n",
       "      <td>95616</td>\n",
       "      <td>65</td>\n",
       "      <td>30</td>\n",
       "      <td>4</td>\n",
       "      <td>1</td>\n",
       "      <td>6</td>\n",
       "      <td>51.4</td>\n",
       "      <td>9307</td>\n",
       "      <td>3.85</td>\n",
       "      <td>4.43</td>\n",
       "      <td>118</td>\n",
       "      <td>2616</td>\n",
       "      <td>3040</td>\n",
       "    </tr>\n",
       "  </tbody>\n",
       "</table>\n",
       "</div>"
      ],
      "text/plain": [
       "   district_id district_name           region  num_inhabitants  \\\n",
       "0            1   Hl.m. Praha           Prague          1204953   \n",
       "1            2       Benesov  central Bohemia            88884   \n",
       "2            3        Beroun  central Bohemia            75232   \n",
       "3            4        Kladno  central Bohemia           149893   \n",
       "4            5         Kolin  central Bohemia            95616   \n",
       "\n",
       "   num_munipalities_gt499  num_munipalities_500to1999  \\\n",
       "0                       0                           0   \n",
       "1                      80                          26   \n",
       "2                      55                          26   \n",
       "3                      63                          29   \n",
       "4                      65                          30   \n",
       "\n",
       "   num_munipalities_2000to9999  num_munipalities_gt10000  num_cities  \\\n",
       "0                            0                         1           1   \n",
       "1                            6                         2           5   \n",
       "2                            4                         1           5   \n",
       "3                            6                         2           6   \n",
       "4                            4                         1           6   \n",
       "\n",
       "   ratio_urban  average_salary  unemp_rate95  unemp_rate96  \\\n",
       "0        100.0           12541          0.29          0.43   \n",
       "1         46.7            8507          1.67          1.85   \n",
       "2         41.7            8980          1.95          2.21   \n",
       "3         67.4            9753          4.64          5.05   \n",
       "4         51.4            9307          3.85          4.43   \n",
       "\n",
       "   num_entrep_per1000  num_crimes95  num_crimes96  \n",
       "0                 167         85677         99107  \n",
       "1                 132          2159          2674  \n",
       "2                 111          2824          2813  \n",
       "3                 109          5244          5892  \n",
       "4                 118          2616          3040  "
      ]
     },
     "execution_count": 740,
     "metadata": {},
     "output_type": "execute_result"
    }
   ],
   "source": [
    "df_district.head()"
   ]
  },
  {
   "cell_type": "code",
   "execution_count": 741,
   "metadata": {},
   "outputs": [
    {
     "data": {
      "text/plain": [
       "district_id                      int64\n",
       "district_name                   object\n",
       "region                          object\n",
       "num_inhabitants                  int64\n",
       "num_munipalities_gt499           int64\n",
       "num_munipalities_500to1999       int64\n",
       "num_munipalities_2000to9999      int64\n",
       "num_munipalities_gt10000         int64\n",
       "num_cities                       int64\n",
       "ratio_urban                    float64\n",
       "average_salary                   int64\n",
       "unemp_rate95                   float64\n",
       "unemp_rate96                   float64\n",
       "num_entrep_per1000               int64\n",
       "num_crimes95                     int64\n",
       "num_crimes96                     int64\n",
       "dtype: object"
      ]
     },
     "execution_count": 741,
     "metadata": {},
     "output_type": "execute_result"
    }
   ],
   "source": [
    "df_district.dtypes"
   ]
  },
  {
   "cell_type": "code",
   "execution_count": 742,
   "metadata": {},
   "outputs": [
    {
     "data": {
      "text/plain": [
       "district_id                    0\n",
       "district_name                  0\n",
       "region                         0\n",
       "num_inhabitants                0\n",
       "num_munipalities_gt499         0\n",
       "num_munipalities_500to1999     0\n",
       "num_munipalities_2000to9999    0\n",
       "num_munipalities_gt10000       0\n",
       "num_cities                     0\n",
       "ratio_urban                    0\n",
       "average_salary                 0\n",
       "unemp_rate95                   0\n",
       "unemp_rate96                   0\n",
       "num_entrep_per1000             0\n",
       "num_crimes95                   0\n",
       "num_crimes96                   0\n",
       "dtype: int64"
      ]
     },
     "execution_count": 742,
     "metadata": {},
     "output_type": "execute_result"
    }
   ],
   "source": [
    "df_district.isnull().sum()"
   ]
  },
  {
   "cell_type": "code",
   "execution_count": 743,
   "metadata": {},
   "outputs": [],
   "source": [
    "# Enrich df_loan with district_id column\n",
    "#pd.merge(df_a, df_b, on='subject_id', how='left')\n",
    "df_loan_account = pd.merge(df_loan, df_account, on='account_id', how='left')"
   ]
  },
  {
   "cell_type": "code",
   "execution_count": 744,
   "metadata": {},
   "outputs": [
    {
     "data": {
      "text/html": [
       "<div>\n",
       "<style scoped>\n",
       "    .dataframe tbody tr th:only-of-type {\n",
       "        vertical-align: middle;\n",
       "    }\n",
       "\n",
       "    .dataframe tbody tr th {\n",
       "        vertical-align: top;\n",
       "    }\n",
       "\n",
       "    .dataframe thead th {\n",
       "        text-align: right;\n",
       "    }\n",
       "</style>\n",
       "<table border=\"1\" class=\"dataframe\">\n",
       "  <thead>\n",
       "    <tr style=\"text-align: right;\">\n",
       "      <th></th>\n",
       "      <th>loan_id</th>\n",
       "      <th>account_id</th>\n",
       "      <th>date_x</th>\n",
       "      <th>loan_amount</th>\n",
       "      <th>loan_duration</th>\n",
       "      <th>monthly_loan_payment</th>\n",
       "      <th>loan_status</th>\n",
       "      <th>district_id</th>\n",
       "      <th>statement_freq</th>\n",
       "      <th>date_y</th>\n",
       "    </tr>\n",
       "  </thead>\n",
       "  <tbody>\n",
       "    <tr>\n",
       "      <th>0</th>\n",
       "      <td>5314</td>\n",
       "      <td>1787</td>\n",
       "      <td>1993-07-05</td>\n",
       "      <td>96396</td>\n",
       "      <td>12</td>\n",
       "      <td>8033.0</td>\n",
       "      <td>B</td>\n",
       "      <td>30</td>\n",
       "      <td>WEEKLY</td>\n",
       "      <td>1993-03-22</td>\n",
       "    </tr>\n",
       "    <tr>\n",
       "      <th>1</th>\n",
       "      <td>5316</td>\n",
       "      <td>1801</td>\n",
       "      <td>1993-07-11</td>\n",
       "      <td>165960</td>\n",
       "      <td>36</td>\n",
       "      <td>4610.0</td>\n",
       "      <td>A</td>\n",
       "      <td>46</td>\n",
       "      <td>MONTHLY</td>\n",
       "      <td>1993-02-13</td>\n",
       "    </tr>\n",
       "    <tr>\n",
       "      <th>2</th>\n",
       "      <td>6863</td>\n",
       "      <td>9188</td>\n",
       "      <td>1993-07-28</td>\n",
       "      <td>127080</td>\n",
       "      <td>60</td>\n",
       "      <td>2118.0</td>\n",
       "      <td>A</td>\n",
       "      <td>45</td>\n",
       "      <td>MONTHLY</td>\n",
       "      <td>1993-02-08</td>\n",
       "    </tr>\n",
       "    <tr>\n",
       "      <th>3</th>\n",
       "      <td>5325</td>\n",
       "      <td>1843</td>\n",
       "      <td>1993-08-03</td>\n",
       "      <td>105804</td>\n",
       "      <td>36</td>\n",
       "      <td>2939.0</td>\n",
       "      <td>A</td>\n",
       "      <td>12</td>\n",
       "      <td>MONTHLY</td>\n",
       "      <td>1993-01-30</td>\n",
       "    </tr>\n",
       "    <tr>\n",
       "      <th>4</th>\n",
       "      <td>7240</td>\n",
       "      <td>11013</td>\n",
       "      <td>1993-09-06</td>\n",
       "      <td>274740</td>\n",
       "      <td>60</td>\n",
       "      <td>4579.0</td>\n",
       "      <td>A</td>\n",
       "      <td>1</td>\n",
       "      <td>WEEKLY</td>\n",
       "      <td>1993-02-14</td>\n",
       "    </tr>\n",
       "  </tbody>\n",
       "</table>\n",
       "</div>"
      ],
      "text/plain": [
       "   loan_id  account_id      date_x  loan_amount  loan_duration  \\\n",
       "0     5314        1787  1993-07-05        96396             12   \n",
       "1     5316        1801  1993-07-11       165960             36   \n",
       "2     6863        9188  1993-07-28       127080             60   \n",
       "3     5325        1843  1993-08-03       105804             36   \n",
       "4     7240       11013  1993-09-06       274740             60   \n",
       "\n",
       "   monthly_loan_payment loan_status  district_id statement_freq      date_y  \n",
       "0                8033.0           B           30         WEEKLY  1993-03-22  \n",
       "1                4610.0           A           46        MONTHLY  1993-02-13  \n",
       "2                2118.0           A           45        MONTHLY  1993-02-08  \n",
       "3                2939.0           A           12        MONTHLY  1993-01-30  \n",
       "4                4579.0           A            1         WEEKLY  1993-02-14  "
      ]
     },
     "execution_count": 744,
     "metadata": {},
     "output_type": "execute_result"
    }
   ],
   "source": [
    "df_loan_account.head()"
   ]
  },
  {
   "cell_type": "code",
   "execution_count": 745,
   "metadata": {},
   "outputs": [],
   "source": [
    "# df.drop(columns =['C', 'D'])\n",
    "df_loan_account.drop(columns = ['statement_freq', 'date_y'], inplace = True)"
   ]
  },
  {
   "cell_type": "code",
   "execution_count": 746,
   "metadata": {},
   "outputs": [
    {
     "data": {
      "text/html": [
       "<div>\n",
       "<style scoped>\n",
       "    .dataframe tbody tr th:only-of-type {\n",
       "        vertical-align: middle;\n",
       "    }\n",
       "\n",
       "    .dataframe tbody tr th {\n",
       "        vertical-align: top;\n",
       "    }\n",
       "\n",
       "    .dataframe thead th {\n",
       "        text-align: right;\n",
       "    }\n",
       "</style>\n",
       "<table border=\"1\" class=\"dataframe\">\n",
       "  <thead>\n",
       "    <tr style=\"text-align: right;\">\n",
       "      <th></th>\n",
       "      <th>loan_id</th>\n",
       "      <th>account_id</th>\n",
       "      <th>date_x</th>\n",
       "      <th>loan_amount</th>\n",
       "      <th>loan_duration</th>\n",
       "      <th>monthly_loan_payment</th>\n",
       "      <th>loan_status</th>\n",
       "      <th>district_id</th>\n",
       "    </tr>\n",
       "  </thead>\n",
       "  <tbody>\n",
       "    <tr>\n",
       "      <th>0</th>\n",
       "      <td>5314</td>\n",
       "      <td>1787</td>\n",
       "      <td>1993-07-05</td>\n",
       "      <td>96396</td>\n",
       "      <td>12</td>\n",
       "      <td>8033.0</td>\n",
       "      <td>B</td>\n",
       "      <td>30</td>\n",
       "    </tr>\n",
       "    <tr>\n",
       "      <th>1</th>\n",
       "      <td>5316</td>\n",
       "      <td>1801</td>\n",
       "      <td>1993-07-11</td>\n",
       "      <td>165960</td>\n",
       "      <td>36</td>\n",
       "      <td>4610.0</td>\n",
       "      <td>A</td>\n",
       "      <td>46</td>\n",
       "    </tr>\n",
       "    <tr>\n",
       "      <th>2</th>\n",
       "      <td>6863</td>\n",
       "      <td>9188</td>\n",
       "      <td>1993-07-28</td>\n",
       "      <td>127080</td>\n",
       "      <td>60</td>\n",
       "      <td>2118.0</td>\n",
       "      <td>A</td>\n",
       "      <td>45</td>\n",
       "    </tr>\n",
       "    <tr>\n",
       "      <th>3</th>\n",
       "      <td>5325</td>\n",
       "      <td>1843</td>\n",
       "      <td>1993-08-03</td>\n",
       "      <td>105804</td>\n",
       "      <td>36</td>\n",
       "      <td>2939.0</td>\n",
       "      <td>A</td>\n",
       "      <td>12</td>\n",
       "    </tr>\n",
       "    <tr>\n",
       "      <th>4</th>\n",
       "      <td>7240</td>\n",
       "      <td>11013</td>\n",
       "      <td>1993-09-06</td>\n",
       "      <td>274740</td>\n",
       "      <td>60</td>\n",
       "      <td>4579.0</td>\n",
       "      <td>A</td>\n",
       "      <td>1</td>\n",
       "    </tr>\n",
       "    <tr>\n",
       "      <th>...</th>\n",
       "      <td>...</td>\n",
       "      <td>...</td>\n",
       "      <td>...</td>\n",
       "      <td>...</td>\n",
       "      <td>...</td>\n",
       "      <td>...</td>\n",
       "      <td>...</td>\n",
       "      <td>...</td>\n",
       "    </tr>\n",
       "    <tr>\n",
       "      <th>677</th>\n",
       "      <td>4989</td>\n",
       "      <td>105</td>\n",
       "      <td>1998-12-05</td>\n",
       "      <td>352704</td>\n",
       "      <td>48</td>\n",
       "      <td>7348.0</td>\n",
       "      <td>C</td>\n",
       "      <td>21</td>\n",
       "    </tr>\n",
       "    <tr>\n",
       "      <th>678</th>\n",
       "      <td>5221</td>\n",
       "      <td>1284</td>\n",
       "      <td>1998-12-05</td>\n",
       "      <td>52512</td>\n",
       "      <td>12</td>\n",
       "      <td>4376.0</td>\n",
       "      <td>C</td>\n",
       "      <td>55</td>\n",
       "    </tr>\n",
       "    <tr>\n",
       "      <th>679</th>\n",
       "      <td>6402</td>\n",
       "      <td>6922</td>\n",
       "      <td>1998-12-06</td>\n",
       "      <td>139488</td>\n",
       "      <td>24</td>\n",
       "      <td>5812.0</td>\n",
       "      <td>C</td>\n",
       "      <td>3</td>\n",
       "    </tr>\n",
       "    <tr>\n",
       "      <th>680</th>\n",
       "      <td>5346</td>\n",
       "      <td>1928</td>\n",
       "      <td>1998-12-06</td>\n",
       "      <td>55632</td>\n",
       "      <td>24</td>\n",
       "      <td>2318.0</td>\n",
       "      <td>C</td>\n",
       "      <td>70</td>\n",
       "    </tr>\n",
       "    <tr>\n",
       "      <th>681</th>\n",
       "      <td>6748</td>\n",
       "      <td>8645</td>\n",
       "      <td>1998-12-08</td>\n",
       "      <td>240900</td>\n",
       "      <td>60</td>\n",
       "      <td>4015.0</td>\n",
       "      <td>C</td>\n",
       "      <td>60</td>\n",
       "    </tr>\n",
       "  </tbody>\n",
       "</table>\n",
       "<p>682 rows × 8 columns</p>\n",
       "</div>"
      ],
      "text/plain": [
       "     loan_id  account_id      date_x  loan_amount  loan_duration  \\\n",
       "0       5314        1787  1993-07-05        96396             12   \n",
       "1       5316        1801  1993-07-11       165960             36   \n",
       "2       6863        9188  1993-07-28       127080             60   \n",
       "3       5325        1843  1993-08-03       105804             36   \n",
       "4       7240       11013  1993-09-06       274740             60   \n",
       "..       ...         ...         ...          ...            ...   \n",
       "677     4989         105  1998-12-05       352704             48   \n",
       "678     5221        1284  1998-12-05        52512             12   \n",
       "679     6402        6922  1998-12-06       139488             24   \n",
       "680     5346        1928  1998-12-06        55632             24   \n",
       "681     6748        8645  1998-12-08       240900             60   \n",
       "\n",
       "     monthly_loan_payment loan_status  district_id  \n",
       "0                  8033.0           B           30  \n",
       "1                  4610.0           A           46  \n",
       "2                  2118.0           A           45  \n",
       "3                  2939.0           A           12  \n",
       "4                  4579.0           A            1  \n",
       "..                    ...         ...          ...  \n",
       "677                7348.0           C           21  \n",
       "678                4376.0           C           55  \n",
       "679                5812.0           C            3  \n",
       "680                2318.0           C           70  \n",
       "681                4015.0           C           60  \n",
       "\n",
       "[682 rows x 8 columns]"
      ]
     },
     "execution_count": 746,
     "metadata": {},
     "output_type": "execute_result"
    }
   ],
   "source": [
    "df_loan_account"
   ]
  },
  {
   "cell_type": "code",
   "execution_count": 747,
   "metadata": {},
   "outputs": [
    {
     "data": {
      "text/plain": [
       "(682, 8)"
      ]
     },
     "execution_count": 747,
     "metadata": {},
     "output_type": "execute_result"
    }
   ],
   "source": [
    "df_loan_account.shape"
   ]
  },
  {
   "cell_type": "code",
   "execution_count": 748,
   "metadata": {},
   "outputs": [],
   "source": [
    "# Encich df_loan with columns from district_id\n",
    "df_loan_account_district = pd.merge(df_loan_account, df_district, on='district_id', how='left')"
   ]
  },
  {
   "cell_type": "code",
   "execution_count": 749,
   "metadata": {},
   "outputs": [
    {
     "data": {
      "text/html": [
       "<div>\n",
       "<style scoped>\n",
       "    .dataframe tbody tr th:only-of-type {\n",
       "        vertical-align: middle;\n",
       "    }\n",
       "\n",
       "    .dataframe tbody tr th {\n",
       "        vertical-align: top;\n",
       "    }\n",
       "\n",
       "    .dataframe thead th {\n",
       "        text-align: right;\n",
       "    }\n",
       "</style>\n",
       "<table border=\"1\" class=\"dataframe\">\n",
       "  <thead>\n",
       "    <tr style=\"text-align: right;\">\n",
       "      <th></th>\n",
       "      <th>loan_id</th>\n",
       "      <th>account_id</th>\n",
       "      <th>date_x</th>\n",
       "      <th>loan_amount</th>\n",
       "      <th>loan_duration</th>\n",
       "      <th>monthly_loan_payment</th>\n",
       "      <th>loan_status</th>\n",
       "      <th>district_id</th>\n",
       "      <th>district_name</th>\n",
       "      <th>region</th>\n",
       "      <th>...</th>\n",
       "      <th>num_munipalities_2000to9999</th>\n",
       "      <th>num_munipalities_gt10000</th>\n",
       "      <th>num_cities</th>\n",
       "      <th>ratio_urban</th>\n",
       "      <th>average_salary</th>\n",
       "      <th>unemp_rate95</th>\n",
       "      <th>unemp_rate96</th>\n",
       "      <th>num_entrep_per1000</th>\n",
       "      <th>num_crimes95</th>\n",
       "      <th>num_crimes96</th>\n",
       "    </tr>\n",
       "  </thead>\n",
       "  <tbody>\n",
       "    <tr>\n",
       "      <th>0</th>\n",
       "      <td>5314</td>\n",
       "      <td>1787</td>\n",
       "      <td>1993-07-05</td>\n",
       "      <td>96396</td>\n",
       "      <td>12</td>\n",
       "      <td>8033.0</td>\n",
       "      <td>B</td>\n",
       "      <td>30</td>\n",
       "      <td>Sokolov</td>\n",
       "      <td>west Bohemia</td>\n",
       "      <td>...</td>\n",
       "      <td>8</td>\n",
       "      <td>2</td>\n",
       "      <td>10</td>\n",
       "      <td>81.8</td>\n",
       "      <td>9650</td>\n",
       "      <td>3.38</td>\n",
       "      <td>3.67</td>\n",
       "      <td>100</td>\n",
       "      <td>2985</td>\n",
       "      <td>2804</td>\n",
       "    </tr>\n",
       "    <tr>\n",
       "      <th>1</th>\n",
       "      <td>5316</td>\n",
       "      <td>1801</td>\n",
       "      <td>1993-07-11</td>\n",
       "      <td>165960</td>\n",
       "      <td>36</td>\n",
       "      <td>4610.0</td>\n",
       "      <td>A</td>\n",
       "      <td>46</td>\n",
       "      <td>Nachod</td>\n",
       "      <td>east Bohemia</td>\n",
       "      <td>...</td>\n",
       "      <td>7</td>\n",
       "      <td>3</td>\n",
       "      <td>10</td>\n",
       "      <td>73.5</td>\n",
       "      <td>8369</td>\n",
       "      <td>1.79</td>\n",
       "      <td>2.31</td>\n",
       "      <td>117</td>\n",
       "      <td>2854</td>\n",
       "      <td>2618</td>\n",
       "    </tr>\n",
       "    <tr>\n",
       "      <th>2</th>\n",
       "      <td>6863</td>\n",
       "      <td>9188</td>\n",
       "      <td>1993-07-28</td>\n",
       "      <td>127080</td>\n",
       "      <td>60</td>\n",
       "      <td>2118.0</td>\n",
       "      <td>A</td>\n",
       "      <td>45</td>\n",
       "      <td>Jicin</td>\n",
       "      <td>east Bohemia</td>\n",
       "      <td>...</td>\n",
       "      <td>6</td>\n",
       "      <td>1</td>\n",
       "      <td>5</td>\n",
       "      <td>53.5</td>\n",
       "      <td>8390</td>\n",
       "      <td>2.28</td>\n",
       "      <td>2.89</td>\n",
       "      <td>132</td>\n",
       "      <td>2080</td>\n",
       "      <td>2122</td>\n",
       "    </tr>\n",
       "    <tr>\n",
       "      <th>3</th>\n",
       "      <td>5325</td>\n",
       "      <td>1843</td>\n",
       "      <td>1993-08-03</td>\n",
       "      <td>105804</td>\n",
       "      <td>36</td>\n",
       "      <td>2939.0</td>\n",
       "      <td>A</td>\n",
       "      <td>12</td>\n",
       "      <td>Pribram</td>\n",
       "      <td>central Bohemia</td>\n",
       "      <td>...</td>\n",
       "      <td>6</td>\n",
       "      <td>1</td>\n",
       "      <td>6</td>\n",
       "      <td>58.0</td>\n",
       "      <td>8754</td>\n",
       "      <td>3.83</td>\n",
       "      <td>4.31</td>\n",
       "      <td>137</td>\n",
       "      <td>3804</td>\n",
       "      <td>3868</td>\n",
       "    </tr>\n",
       "    <tr>\n",
       "      <th>4</th>\n",
       "      <td>7240</td>\n",
       "      <td>11013</td>\n",
       "      <td>1993-09-06</td>\n",
       "      <td>274740</td>\n",
       "      <td>60</td>\n",
       "      <td>4579.0</td>\n",
       "      <td>A</td>\n",
       "      <td>1</td>\n",
       "      <td>Hl.m. Praha</td>\n",
       "      <td>Prague</td>\n",
       "      <td>...</td>\n",
       "      <td>0</td>\n",
       "      <td>1</td>\n",
       "      <td>1</td>\n",
       "      <td>100.0</td>\n",
       "      <td>12541</td>\n",
       "      <td>0.29</td>\n",
       "      <td>0.43</td>\n",
       "      <td>167</td>\n",
       "      <td>85677</td>\n",
       "      <td>99107</td>\n",
       "    </tr>\n",
       "    <tr>\n",
       "      <th>...</th>\n",
       "      <td>...</td>\n",
       "      <td>...</td>\n",
       "      <td>...</td>\n",
       "      <td>...</td>\n",
       "      <td>...</td>\n",
       "      <td>...</td>\n",
       "      <td>...</td>\n",
       "      <td>...</td>\n",
       "      <td>...</td>\n",
       "      <td>...</td>\n",
       "      <td>...</td>\n",
       "      <td>...</td>\n",
       "      <td>...</td>\n",
       "      <td>...</td>\n",
       "      <td>...</td>\n",
       "      <td>...</td>\n",
       "      <td>...</td>\n",
       "      <td>...</td>\n",
       "      <td>...</td>\n",
       "      <td>...</td>\n",
       "      <td>...</td>\n",
       "    </tr>\n",
       "    <tr>\n",
       "      <th>677</th>\n",
       "      <td>4989</td>\n",
       "      <td>105</td>\n",
       "      <td>1998-12-05</td>\n",
       "      <td>352704</td>\n",
       "      <td>48</td>\n",
       "      <td>7348.0</td>\n",
       "      <td>C</td>\n",
       "      <td>21</td>\n",
       "      <td>Tabor</td>\n",
       "      <td>south Bohemia</td>\n",
       "      <td>...</td>\n",
       "      <td>7</td>\n",
       "      <td>1</td>\n",
       "      <td>7</td>\n",
       "      <td>67.0</td>\n",
       "      <td>9104</td>\n",
       "      <td>1.51</td>\n",
       "      <td>2.07</td>\n",
       "      <td>123</td>\n",
       "      <td>2299</td>\n",
       "      <td>2354</td>\n",
       "    </tr>\n",
       "    <tr>\n",
       "      <th>678</th>\n",
       "      <td>5221</td>\n",
       "      <td>1284</td>\n",
       "      <td>1998-12-05</td>\n",
       "      <td>52512</td>\n",
       "      <td>12</td>\n",
       "      <td>4376.0</td>\n",
       "      <td>C</td>\n",
       "      <td>55</td>\n",
       "      <td>Brno - venkov</td>\n",
       "      <td>south Moravia</td>\n",
       "      <td>...</td>\n",
       "      <td>18</td>\n",
       "      <td>0</td>\n",
       "      <td>9</td>\n",
       "      <td>33.9</td>\n",
       "      <td>8743</td>\n",
       "      <td>1.88</td>\n",
       "      <td>2.43</td>\n",
       "      <td>111</td>\n",
       "      <td>3659</td>\n",
       "      <td>3894</td>\n",
       "    </tr>\n",
       "    <tr>\n",
       "      <th>679</th>\n",
       "      <td>6402</td>\n",
       "      <td>6922</td>\n",
       "      <td>1998-12-06</td>\n",
       "      <td>139488</td>\n",
       "      <td>24</td>\n",
       "      <td>5812.0</td>\n",
       "      <td>C</td>\n",
       "      <td>3</td>\n",
       "      <td>Beroun</td>\n",
       "      <td>central Bohemia</td>\n",
       "      <td>...</td>\n",
       "      <td>4</td>\n",
       "      <td>1</td>\n",
       "      <td>5</td>\n",
       "      <td>41.7</td>\n",
       "      <td>8980</td>\n",
       "      <td>1.95</td>\n",
       "      <td>2.21</td>\n",
       "      <td>111</td>\n",
       "      <td>2824</td>\n",
       "      <td>2813</td>\n",
       "    </tr>\n",
       "    <tr>\n",
       "      <th>680</th>\n",
       "      <td>5346</td>\n",
       "      <td>1928</td>\n",
       "      <td>1998-12-06</td>\n",
       "      <td>55632</td>\n",
       "      <td>24</td>\n",
       "      <td>2318.0</td>\n",
       "      <td>C</td>\n",
       "      <td>70</td>\n",
       "      <td>Karvina</td>\n",
       "      <td>north Moravia</td>\n",
       "      <td>...</td>\n",
       "      <td>8</td>\n",
       "      <td>5</td>\n",
       "      <td>7</td>\n",
       "      <td>89.9</td>\n",
       "      <td>10177</td>\n",
       "      <td>6.63</td>\n",
       "      <td>7.75</td>\n",
       "      <td>81</td>\n",
       "      <td>9878</td>\n",
       "      <td>10108</td>\n",
       "    </tr>\n",
       "    <tr>\n",
       "      <th>681</th>\n",
       "      <td>6748</td>\n",
       "      <td>8645</td>\n",
       "      <td>1998-12-08</td>\n",
       "      <td>240900</td>\n",
       "      <td>60</td>\n",
       "      <td>4015.0</td>\n",
       "      <td>C</td>\n",
       "      <td>60</td>\n",
       "      <td>Prostejov</td>\n",
       "      <td>south Moravia</td>\n",
       "      <td>...</td>\n",
       "      <td>4</td>\n",
       "      <td>1</td>\n",
       "      <td>4</td>\n",
       "      <td>51.9</td>\n",
       "      <td>8441</td>\n",
       "      <td>3.45</td>\n",
       "      <td>4.48</td>\n",
       "      <td>115</td>\n",
       "      <td>1879</td>\n",
       "      <td>2252</td>\n",
       "    </tr>\n",
       "  </tbody>\n",
       "</table>\n",
       "<p>682 rows × 23 columns</p>\n",
       "</div>"
      ],
      "text/plain": [
       "     loan_id  account_id      date_x  loan_amount  loan_duration  \\\n",
       "0       5314        1787  1993-07-05        96396             12   \n",
       "1       5316        1801  1993-07-11       165960             36   \n",
       "2       6863        9188  1993-07-28       127080             60   \n",
       "3       5325        1843  1993-08-03       105804             36   \n",
       "4       7240       11013  1993-09-06       274740             60   \n",
       "..       ...         ...         ...          ...            ...   \n",
       "677     4989         105  1998-12-05       352704             48   \n",
       "678     5221        1284  1998-12-05        52512             12   \n",
       "679     6402        6922  1998-12-06       139488             24   \n",
       "680     5346        1928  1998-12-06        55632             24   \n",
       "681     6748        8645  1998-12-08       240900             60   \n",
       "\n",
       "     monthly_loan_payment loan_status  district_id  district_name  \\\n",
       "0                  8033.0           B           30        Sokolov   \n",
       "1                  4610.0           A           46         Nachod   \n",
       "2                  2118.0           A           45          Jicin   \n",
       "3                  2939.0           A           12        Pribram   \n",
       "4                  4579.0           A            1    Hl.m. Praha   \n",
       "..                    ...         ...          ...            ...   \n",
       "677                7348.0           C           21          Tabor   \n",
       "678                4376.0           C           55  Brno - venkov   \n",
       "679                5812.0           C            3         Beroun   \n",
       "680                2318.0           C           70        Karvina   \n",
       "681                4015.0           C           60      Prostejov   \n",
       "\n",
       "              region  ...  num_munipalities_2000to9999  \\\n",
       "0       west Bohemia  ...                            8   \n",
       "1       east Bohemia  ...                            7   \n",
       "2       east Bohemia  ...                            6   \n",
       "3    central Bohemia  ...                            6   \n",
       "4             Prague  ...                            0   \n",
       "..               ...  ...                          ...   \n",
       "677    south Bohemia  ...                            7   \n",
       "678    south Moravia  ...                           18   \n",
       "679  central Bohemia  ...                            4   \n",
       "680    north Moravia  ...                            8   \n",
       "681    south Moravia  ...                            4   \n",
       "\n",
       "     num_munipalities_gt10000  num_cities  ratio_urban  average_salary  \\\n",
       "0                           2          10         81.8            9650   \n",
       "1                           3          10         73.5            8369   \n",
       "2                           1           5         53.5            8390   \n",
       "3                           1           6         58.0            8754   \n",
       "4                           1           1        100.0           12541   \n",
       "..                        ...         ...          ...             ...   \n",
       "677                         1           7         67.0            9104   \n",
       "678                         0           9         33.9            8743   \n",
       "679                         1           5         41.7            8980   \n",
       "680                         5           7         89.9           10177   \n",
       "681                         1           4         51.9            8441   \n",
       "\n",
       "     unemp_rate95  unemp_rate96  num_entrep_per1000  num_crimes95  \\\n",
       "0            3.38          3.67                 100          2985   \n",
       "1            1.79          2.31                 117          2854   \n",
       "2            2.28          2.89                 132          2080   \n",
       "3            3.83          4.31                 137          3804   \n",
       "4            0.29          0.43                 167         85677   \n",
       "..            ...           ...                 ...           ...   \n",
       "677          1.51          2.07                 123          2299   \n",
       "678          1.88          2.43                 111          3659   \n",
       "679          1.95          2.21                 111          2824   \n",
       "680          6.63          7.75                  81          9878   \n",
       "681          3.45          4.48                 115          1879   \n",
       "\n",
       "     num_crimes96  \n",
       "0            2804  \n",
       "1            2618  \n",
       "2            2122  \n",
       "3            3868  \n",
       "4           99107  \n",
       "..            ...  \n",
       "677          2354  \n",
       "678          3894  \n",
       "679          2813  \n",
       "680         10108  \n",
       "681          2252  \n",
       "\n",
       "[682 rows x 23 columns]"
      ]
     },
     "execution_count": 749,
     "metadata": {},
     "output_type": "execute_result"
    }
   ],
   "source": [
    "df_loan_account_district"
   ]
  },
  {
   "cell_type": "code",
   "execution_count": 750,
   "metadata": {},
   "outputs": [
    {
     "data": {
      "text/plain": [
       "(682, 23)"
      ]
     },
     "execution_count": 750,
     "metadata": {},
     "output_type": "execute_result"
    }
   ],
   "source": [
    "df_loan_account_district.shape"
   ]
  },
  {
   "cell_type": "code",
   "execution_count": 751,
   "metadata": {},
   "outputs": [
    {
     "data": {
      "text/plain": [
       "loan_id                        0\n",
       "account_id                     0\n",
       "date_x                         0\n",
       "loan_amount                    0\n",
       "loan_duration                  0\n",
       "monthly_loan_payment           0\n",
       "loan_status                    0\n",
       "district_id                    0\n",
       "district_name                  0\n",
       "region                         0\n",
       "num_inhabitants                0\n",
       "num_munipalities_gt499         0\n",
       "num_munipalities_500to1999     0\n",
       "num_munipalities_2000to9999    0\n",
       "num_munipalities_gt10000       0\n",
       "num_cities                     0\n",
       "ratio_urban                    0\n",
       "average_salary                 0\n",
       "unemp_rate95                   0\n",
       "unemp_rate96                   0\n",
       "num_entrep_per1000             0\n",
       "num_crimes95                   0\n",
       "num_crimes96                   0\n",
       "dtype: int64"
      ]
     },
     "execution_count": 751,
     "metadata": {},
     "output_type": "execute_result"
    }
   ],
   "source": [
    "df_loan_account_district.isnull().sum()"
   ]
  },
  {
   "cell_type": "code",
   "execution_count": 752,
   "metadata": {},
   "outputs": [],
   "source": [
    "# Encich df_loan with columns from df_trans\n",
    "df_loan_account_district_trans = pd.merge(df_loan_account_district, df_trans, on='account_id', how='left')"
   ]
  },
  {
   "cell_type": "code",
   "execution_count": 753,
   "metadata": {},
   "outputs": [
    {
     "data": {
      "text/html": [
       "<div>\n",
       "<style scoped>\n",
       "    .dataframe tbody tr th:only-of-type {\n",
       "        vertical-align: middle;\n",
       "    }\n",
       "\n",
       "    .dataframe tbody tr th {\n",
       "        vertical-align: top;\n",
       "    }\n",
       "\n",
       "    .dataframe thead th {\n",
       "        text-align: right;\n",
       "    }\n",
       "</style>\n",
       "<table border=\"1\" class=\"dataframe\">\n",
       "  <thead>\n",
       "    <tr style=\"text-align: right;\">\n",
       "      <th></th>\n",
       "      <th>loan_id</th>\n",
       "      <th>account_id</th>\n",
       "      <th>date_x</th>\n",
       "      <th>loan_amount</th>\n",
       "      <th>loan_duration</th>\n",
       "      <th>monthly_loan_payment</th>\n",
       "      <th>loan_status</th>\n",
       "      <th>district_id</th>\n",
       "      <th>district_name</th>\n",
       "      <th>region</th>\n",
       "      <th>...</th>\n",
       "      <th>trans_id</th>\n",
       "      <th>amount</th>\n",
       "      <th>balance</th>\n",
       "      <th>bank</th>\n",
       "      <th>account</th>\n",
       "      <th>trans_type</th>\n",
       "      <th>trans_operation</th>\n",
       "      <th>trans_k_symbol</th>\n",
       "      <th>amount_multiplier</th>\n",
       "      <th>trans_amount</th>\n",
       "    </tr>\n",
       "  </thead>\n",
       "  <tbody>\n",
       "    <tr>\n",
       "      <th>0</th>\n",
       "      <td>5314</td>\n",
       "      <td>1787</td>\n",
       "      <td>1993-07-05</td>\n",
       "      <td>96396</td>\n",
       "      <td>12</td>\n",
       "      <td>8033.0</td>\n",
       "      <td>B</td>\n",
       "      <td>30</td>\n",
       "      <td>Sokolov</td>\n",
       "      <td>west Bohemia</td>\n",
       "      <td>...</td>\n",
       "      <td>523621</td>\n",
       "      <td>1100.0</td>\n",
       "      <td>1100.0</td>\n",
       "      <td>NaN</td>\n",
       "      <td>NaN</td>\n",
       "      <td>CREDIT</td>\n",
       "      <td>CREDIT_IN_CASH</td>\n",
       "      <td>UNKNOWN</td>\n",
       "      <td>1</td>\n",
       "      <td>1100.0</td>\n",
       "    </tr>\n",
       "    <tr>\n",
       "      <th>1</th>\n",
       "      <td>5314</td>\n",
       "      <td>1787</td>\n",
       "      <td>1993-07-05</td>\n",
       "      <td>96396</td>\n",
       "      <td>12</td>\n",
       "      <td>8033.0</td>\n",
       "      <td>B</td>\n",
       "      <td>30</td>\n",
       "      <td>Sokolov</td>\n",
       "      <td>west Bohemia</td>\n",
       "      <td>...</td>\n",
       "      <td>524054</td>\n",
       "      <td>9900.0</td>\n",
       "      <td>11000.0</td>\n",
       "      <td>NaN</td>\n",
       "      <td>NaN</td>\n",
       "      <td>CREDIT</td>\n",
       "      <td>CREDIT_IN_CASH</td>\n",
       "      <td>UNKNOWN</td>\n",
       "      <td>1</td>\n",
       "      <td>9900.0</td>\n",
       "    </tr>\n",
       "    <tr>\n",
       "      <th>2</th>\n",
       "      <td>5314</td>\n",
       "      <td>1787</td>\n",
       "      <td>1993-07-05</td>\n",
       "      <td>96396</td>\n",
       "      <td>12</td>\n",
       "      <td>8033.0</td>\n",
       "      <td>B</td>\n",
       "      <td>30</td>\n",
       "      <td>Sokolov</td>\n",
       "      <td>west Bohemia</td>\n",
       "      <td>...</td>\n",
       "      <td>524055</td>\n",
       "      <td>5800.0</td>\n",
       "      <td>16800.0</td>\n",
       "      <td>NaN</td>\n",
       "      <td>NaN</td>\n",
       "      <td>CREDIT</td>\n",
       "      <td>CREDIT_IN_CASH</td>\n",
       "      <td>UNKNOWN</td>\n",
       "      <td>1</td>\n",
       "      <td>5800.0</td>\n",
       "    </tr>\n",
       "    <tr>\n",
       "      <th>3</th>\n",
       "      <td>5314</td>\n",
       "      <td>1787</td>\n",
       "      <td>1993-07-05</td>\n",
       "      <td>96396</td>\n",
       "      <td>12</td>\n",
       "      <td>8033.0</td>\n",
       "      <td>B</td>\n",
       "      <td>30</td>\n",
       "      <td>Sokolov</td>\n",
       "      <td>west Bohemia</td>\n",
       "      <td>...</td>\n",
       "      <td>524056</td>\n",
       "      <td>3300.0</td>\n",
       "      <td>20100.0</td>\n",
       "      <td>NaN</td>\n",
       "      <td>NaN</td>\n",
       "      <td>CREDIT</td>\n",
       "      <td>CREDIT_IN_CASH</td>\n",
       "      <td>UNKNOWN</td>\n",
       "      <td>1</td>\n",
       "      <td>3300.0</td>\n",
       "    </tr>\n",
       "    <tr>\n",
       "      <th>4</th>\n",
       "      <td>5314</td>\n",
       "      <td>1787</td>\n",
       "      <td>1993-07-05</td>\n",
       "      <td>96396</td>\n",
       "      <td>12</td>\n",
       "      <td>8033.0</td>\n",
       "      <td>B</td>\n",
       "      <td>30</td>\n",
       "      <td>Sokolov</td>\n",
       "      <td>west Bohemia</td>\n",
       "      <td>...</td>\n",
       "      <td>523624</td>\n",
       "      <td>42248.0</td>\n",
       "      <td>62348.0</td>\n",
       "      <td>NaN</td>\n",
       "      <td>NaN</td>\n",
       "      <td>CREDIT</td>\n",
       "      <td>CREDIT_IN_CASH</td>\n",
       "      <td>UNKNOWN</td>\n",
       "      <td>1</td>\n",
       "      <td>42248.0</td>\n",
       "    </tr>\n",
       "    <tr>\n",
       "      <th>...</th>\n",
       "      <td>...</td>\n",
       "      <td>...</td>\n",
       "      <td>...</td>\n",
       "      <td>...</td>\n",
       "      <td>...</td>\n",
       "      <td>...</td>\n",
       "      <td>...</td>\n",
       "      <td>...</td>\n",
       "      <td>...</td>\n",
       "      <td>...</td>\n",
       "      <td>...</td>\n",
       "      <td>...</td>\n",
       "      <td>...</td>\n",
       "      <td>...</td>\n",
       "      <td>...</td>\n",
       "      <td>...</td>\n",
       "      <td>...</td>\n",
       "      <td>...</td>\n",
       "      <td>...</td>\n",
       "      <td>...</td>\n",
       "      <td>...</td>\n",
       "    </tr>\n",
       "    <tr>\n",
       "      <th>191551</th>\n",
       "      <td>6748</td>\n",
       "      <td>8645</td>\n",
       "      <td>1998-12-08</td>\n",
       "      <td>240900</td>\n",
       "      <td>60</td>\n",
       "      <td>4015.0</td>\n",
       "      <td>C</td>\n",
       "      <td>60</td>\n",
       "      <td>Prostejov</td>\n",
       "      <td>south Moravia</td>\n",
       "      <td>...</td>\n",
       "      <td>2616325</td>\n",
       "      <td>4015.0</td>\n",
       "      <td>15798.8</td>\n",
       "      <td>CD</td>\n",
       "      <td>50500750.0</td>\n",
       "      <td>WITHDRAWAL</td>\n",
       "      <td>REMITTANCE_TO_OTHER_BANK</td>\n",
       "      <td>LOAN_PAYMENT</td>\n",
       "      <td>-1</td>\n",
       "      <td>-4015.0</td>\n",
       "    </tr>\n",
       "    <tr>\n",
       "      <th>191552</th>\n",
       "      <td>6748</td>\n",
       "      <td>8645</td>\n",
       "      <td>1998-12-08</td>\n",
       "      <td>240900</td>\n",
       "      <td>60</td>\n",
       "      <td>4015.0</td>\n",
       "      <td>C</td>\n",
       "      <td>60</td>\n",
       "      <td>Prostejov</td>\n",
       "      <td>south Moravia</td>\n",
       "      <td>...</td>\n",
       "      <td>2616277</td>\n",
       "      <td>25394.0</td>\n",
       "      <td>41192.8</td>\n",
       "      <td>NaN</td>\n",
       "      <td>NaN</td>\n",
       "      <td>CREDIT</td>\n",
       "      <td>CREDIT_IN_CASH</td>\n",
       "      <td>UNKNOWN</td>\n",
       "      <td>1</td>\n",
       "      <td>25394.0</td>\n",
       "    </tr>\n",
       "    <tr>\n",
       "      <th>191553</th>\n",
       "      <td>6748</td>\n",
       "      <td>8645</td>\n",
       "      <td>1998-12-08</td>\n",
       "      <td>240900</td>\n",
       "      <td>60</td>\n",
       "      <td>4015.0</td>\n",
       "      <td>C</td>\n",
       "      <td>60</td>\n",
       "      <td>Prostejov</td>\n",
       "      <td>south Moravia</td>\n",
       "      <td>...</td>\n",
       "      <td>2616331</td>\n",
       "      <td>3840.0</td>\n",
       "      <td>37352.8</td>\n",
       "      <td>NaN</td>\n",
       "      <td>NaN</td>\n",
       "      <td>WITHDRAWAL</td>\n",
       "      <td>WITHDRAWAL_IN_CASH</td>\n",
       "      <td>UNKNOWN</td>\n",
       "      <td>-1</td>\n",
       "      <td>-3840.0</td>\n",
       "    </tr>\n",
       "    <tr>\n",
       "      <th>191554</th>\n",
       "      <td>6748</td>\n",
       "      <td>8645</td>\n",
       "      <td>1998-12-08</td>\n",
       "      <td>240900</td>\n",
       "      <td>60</td>\n",
       "      <td>4015.0</td>\n",
       "      <td>C</td>\n",
       "      <td>60</td>\n",
       "      <td>Prostejov</td>\n",
       "      <td>south Moravia</td>\n",
       "      <td>...</td>\n",
       "      <td>3502675</td>\n",
       "      <td>127.7</td>\n",
       "      <td>37613.0</td>\n",
       "      <td>NaN</td>\n",
       "      <td>NaN</td>\n",
       "      <td>CREDIT</td>\n",
       "      <td>UNKNOWN</td>\n",
       "      <td>INTEREST_CREDITED</td>\n",
       "      <td>1</td>\n",
       "      <td>127.7</td>\n",
       "    </tr>\n",
       "    <tr>\n",
       "      <th>191555</th>\n",
       "      <td>6748</td>\n",
       "      <td>8645</td>\n",
       "      <td>1998-12-08</td>\n",
       "      <td>240900</td>\n",
       "      <td>60</td>\n",
       "      <td>4015.0</td>\n",
       "      <td>C</td>\n",
       "      <td>60</td>\n",
       "      <td>Prostejov</td>\n",
       "      <td>south Moravia</td>\n",
       "      <td>...</td>\n",
       "      <td>3476399</td>\n",
       "      <td>132.5</td>\n",
       "      <td>37485.4</td>\n",
       "      <td>NaN</td>\n",
       "      <td>NaN</td>\n",
       "      <td>CREDIT</td>\n",
       "      <td>UNKNOWN</td>\n",
       "      <td>INTEREST_CREDITED</td>\n",
       "      <td>1</td>\n",
       "      <td>132.5</td>\n",
       "    </tr>\n",
       "  </tbody>\n",
       "</table>\n",
       "<p>191556 rows × 33 columns</p>\n",
       "</div>"
      ],
      "text/plain": [
       "        loan_id  account_id      date_x  loan_amount  loan_duration  \\\n",
       "0          5314        1787  1993-07-05        96396             12   \n",
       "1          5314        1787  1993-07-05        96396             12   \n",
       "2          5314        1787  1993-07-05        96396             12   \n",
       "3          5314        1787  1993-07-05        96396             12   \n",
       "4          5314        1787  1993-07-05        96396             12   \n",
       "...         ...         ...         ...          ...            ...   \n",
       "191551     6748        8645  1998-12-08       240900             60   \n",
       "191552     6748        8645  1998-12-08       240900             60   \n",
       "191553     6748        8645  1998-12-08       240900             60   \n",
       "191554     6748        8645  1998-12-08       240900             60   \n",
       "191555     6748        8645  1998-12-08       240900             60   \n",
       "\n",
       "        monthly_loan_payment loan_status  district_id district_name  \\\n",
       "0                     8033.0           B           30       Sokolov   \n",
       "1                     8033.0           B           30       Sokolov   \n",
       "2                     8033.0           B           30       Sokolov   \n",
       "3                     8033.0           B           30       Sokolov   \n",
       "4                     8033.0           B           30       Sokolov   \n",
       "...                      ...         ...          ...           ...   \n",
       "191551                4015.0           C           60     Prostejov   \n",
       "191552                4015.0           C           60     Prostejov   \n",
       "191553                4015.0           C           60     Prostejov   \n",
       "191554                4015.0           C           60     Prostejov   \n",
       "191555                4015.0           C           60     Prostejov   \n",
       "\n",
       "               region  ...  trans_id   amount  balance  bank     account  \\\n",
       "0        west Bohemia  ...    523621   1100.0   1100.0   NaN         NaN   \n",
       "1        west Bohemia  ...    524054   9900.0  11000.0   NaN         NaN   \n",
       "2        west Bohemia  ...    524055   5800.0  16800.0   NaN         NaN   \n",
       "3        west Bohemia  ...    524056   3300.0  20100.0   NaN         NaN   \n",
       "4        west Bohemia  ...    523624  42248.0  62348.0   NaN         NaN   \n",
       "...               ...  ...       ...      ...      ...   ...         ...   \n",
       "191551  south Moravia  ...   2616325   4015.0  15798.8    CD  50500750.0   \n",
       "191552  south Moravia  ...   2616277  25394.0  41192.8   NaN         NaN   \n",
       "191553  south Moravia  ...   2616331   3840.0  37352.8   NaN         NaN   \n",
       "191554  south Moravia  ...   3502675    127.7  37613.0   NaN         NaN   \n",
       "191555  south Moravia  ...   3476399    132.5  37485.4   NaN         NaN   \n",
       "\n",
       "        trans_type           trans_operation     trans_k_symbol  \\\n",
       "0           CREDIT            CREDIT_IN_CASH            UNKNOWN   \n",
       "1           CREDIT            CREDIT_IN_CASH            UNKNOWN   \n",
       "2           CREDIT            CREDIT_IN_CASH            UNKNOWN   \n",
       "3           CREDIT            CREDIT_IN_CASH            UNKNOWN   \n",
       "4           CREDIT            CREDIT_IN_CASH            UNKNOWN   \n",
       "...            ...                       ...                ...   \n",
       "191551  WITHDRAWAL  REMITTANCE_TO_OTHER_BANK       LOAN_PAYMENT   \n",
       "191552      CREDIT            CREDIT_IN_CASH            UNKNOWN   \n",
       "191553  WITHDRAWAL        WITHDRAWAL_IN_CASH            UNKNOWN   \n",
       "191554      CREDIT                   UNKNOWN  INTEREST_CREDITED   \n",
       "191555      CREDIT                   UNKNOWN  INTEREST_CREDITED   \n",
       "\n",
       "        amount_multiplier  trans_amount  \n",
       "0                       1        1100.0  \n",
       "1                       1        9900.0  \n",
       "2                       1        5800.0  \n",
       "3                       1        3300.0  \n",
       "4                       1       42248.0  \n",
       "...                   ...           ...  \n",
       "191551                 -1       -4015.0  \n",
       "191552                  1       25394.0  \n",
       "191553                 -1       -3840.0  \n",
       "191554                  1         127.7  \n",
       "191555                  1         132.5  \n",
       "\n",
       "[191556 rows x 33 columns]"
      ]
     },
     "execution_count": 753,
     "metadata": {},
     "output_type": "execute_result"
    }
   ],
   "source": [
    "df_loan_account_district_trans"
   ]
  },
  {
   "cell_type": "code",
   "execution_count": 754,
   "metadata": {},
   "outputs": [
    {
     "data": {
      "text/plain": [
       "(191556, 33)"
      ]
     },
     "execution_count": 754,
     "metadata": {},
     "output_type": "execute_result"
    }
   ],
   "source": [
    "df_loan_account_district_trans.shape"
   ]
  },
  {
   "cell_type": "code",
   "execution_count": 755,
   "metadata": {},
   "outputs": [
    {
     "data": {
      "text/plain": [
       "loan_id                          int64\n",
       "account_id                       int64\n",
       "date_x                          object\n",
       "loan_amount                      int64\n",
       "loan_duration                    int64\n",
       "monthly_loan_payment           float64\n",
       "loan_status                     object\n",
       "district_id                      int64\n",
       "district_name                   object\n",
       "region                          object\n",
       "num_inhabitants                  int64\n",
       "num_munipalities_gt499           int64\n",
       "num_munipalities_500to1999       int64\n",
       "num_munipalities_2000to9999      int64\n",
       "num_munipalities_gt10000         int64\n",
       "num_cities                       int64\n",
       "ratio_urban                    float64\n",
       "average_salary                   int64\n",
       "unemp_rate95                   float64\n",
       "unemp_rate96                   float64\n",
       "num_entrep_per1000               int64\n",
       "num_crimes95                     int64\n",
       "num_crimes96                     int64\n",
       "trans_id                         int64\n",
       "amount                         float64\n",
       "balance                        float64\n",
       "bank                            object\n",
       "account                        float64\n",
       "trans_type                      object\n",
       "trans_operation                 object\n",
       "trans_k_symbol                  object\n",
       "amount_multiplier                int64\n",
       "trans_amount                   float64\n",
       "dtype: object"
      ]
     },
     "execution_count": 755,
     "metadata": {},
     "output_type": "execute_result"
    }
   ],
   "source": [
    "df_loan_account_district_trans.dtypes"
   ]
  },
  {
   "cell_type": "code",
   "execution_count": 756,
   "metadata": {},
   "outputs": [
    {
     "data": {
      "text/plain": [
       "loan_id                             0\n",
       "account_id                          0\n",
       "date_x                              0\n",
       "loan_amount                         0\n",
       "loan_duration                       0\n",
       "monthly_loan_payment                0\n",
       "loan_status                         0\n",
       "district_id                         0\n",
       "district_name                       0\n",
       "region                              0\n",
       "num_inhabitants                     0\n",
       "num_munipalities_gt499              0\n",
       "num_munipalities_500to1999          0\n",
       "num_munipalities_2000to9999         0\n",
       "num_munipalities_gt10000            0\n",
       "num_cities                          0\n",
       "ratio_urban                         0\n",
       "average_salary                      0\n",
       "unemp_rate95                        0\n",
       "unemp_rate96                        0\n",
       "num_entrep_per1000                  0\n",
       "num_crimes95                        0\n",
       "num_crimes96                        0\n",
       "trans_id                            0\n",
       "amount                              0\n",
       "balance                             0\n",
       "bank                           141043\n",
       "account                        128931\n",
       "trans_type                          0\n",
       "trans_operation                     0\n",
       "trans_k_symbol                      0\n",
       "amount_multiplier                   0\n",
       "trans_amount                        0\n",
       "dtype: int64"
      ]
     },
     "execution_count": 756,
     "metadata": {},
     "output_type": "execute_result"
    }
   ],
   "source": [
    "df_loan_account_district_trans.isnull().sum()"
   ]
  },
  {
   "cell_type": "code",
   "execution_count": 757,
   "metadata": {},
   "outputs": [],
   "source": [
    "def convert_loan_status(x):\n",
    "    if x == 'A':\n",
    "        return 'has_not_defaulted'\n",
    "    elif x == 'C':\n",
    "        return 'has_not_defaulted'\n",
    "    if x == 'B':\n",
    "        return 'has_defaulted'\n",
    "    elif x == 'D':\n",
    "        return 'has_defaulted' \n",
    "    else:\n",
    "        return 'UNKNOWN'"
   ]
  },
  {
   "cell_type": "code",
   "execution_count": 758,
   "metadata": {},
   "outputs": [],
   "source": [
    "df_loan_account_district_trans['loan_status_defaulted'] = df_loan_account_district_trans['loan_status'].map(convert_loan_status)"
   ]
  },
  {
   "cell_type": "code",
   "execution_count": 759,
   "metadata": {},
   "outputs": [
    {
     "data": {
      "text/plain": [
       "has_not_defaulted    168796\n",
       "has_defaulted         22760\n",
       "Name: loan_status_defaulted, dtype: int64"
      ]
     },
     "execution_count": 759,
     "metadata": {},
     "output_type": "execute_result"
    }
   ],
   "source": [
    "df_loan_account_district_trans['loan_status_defaulted'].value_counts()"
   ]
  },
  {
   "cell_type": "code",
   "execution_count": 760,
   "metadata": {},
   "outputs": [
    {
     "data": {
      "text/plain": [
       "has_not_defaulted    0.881184\n",
       "has_defaulted        0.118816\n",
       "Name: loan_status_defaulted, dtype: float64"
      ]
     },
     "execution_count": 760,
     "metadata": {},
     "output_type": "execute_result"
    }
   ],
   "source": [
    "df_loan_account_district_trans['loan_status_defaulted'].value_counts(normalize=True)"
   ]
  },
  {
   "cell_type": "code",
   "execution_count": 761,
   "metadata": {},
   "outputs": [
    {
     "data": {
      "text/html": [
       "<div>\n",
       "<style scoped>\n",
       "    .dataframe tbody tr th:only-of-type {\n",
       "        vertical-align: middle;\n",
       "    }\n",
       "\n",
       "    .dataframe tbody tr th {\n",
       "        vertical-align: top;\n",
       "    }\n",
       "\n",
       "    .dataframe thead th {\n",
       "        text-align: right;\n",
       "    }\n",
       "</style>\n",
       "<table border=\"1\" class=\"dataframe\">\n",
       "  <thead>\n",
       "    <tr style=\"text-align: right;\">\n",
       "      <th></th>\n",
       "      <th>loan_id</th>\n",
       "      <th>account_id</th>\n",
       "      <th>date_x</th>\n",
       "      <th>loan_amount</th>\n",
       "      <th>loan_duration</th>\n",
       "      <th>monthly_loan_payment</th>\n",
       "      <th>loan_status</th>\n",
       "      <th>district_id</th>\n",
       "      <th>district_name</th>\n",
       "      <th>region</th>\n",
       "      <th>...</th>\n",
       "      <th>amount</th>\n",
       "      <th>balance</th>\n",
       "      <th>bank</th>\n",
       "      <th>account</th>\n",
       "      <th>trans_type</th>\n",
       "      <th>trans_operation</th>\n",
       "      <th>trans_k_symbol</th>\n",
       "      <th>amount_multiplier</th>\n",
       "      <th>trans_amount</th>\n",
       "      <th>loan_status_defaulted</th>\n",
       "    </tr>\n",
       "  </thead>\n",
       "  <tbody>\n",
       "    <tr>\n",
       "      <th>0</th>\n",
       "      <td>5314</td>\n",
       "      <td>1787</td>\n",
       "      <td>1993-07-05</td>\n",
       "      <td>96396</td>\n",
       "      <td>12</td>\n",
       "      <td>8033.0</td>\n",
       "      <td>B</td>\n",
       "      <td>30</td>\n",
       "      <td>Sokolov</td>\n",
       "      <td>west Bohemia</td>\n",
       "      <td>...</td>\n",
       "      <td>1100.0</td>\n",
       "      <td>1100.0</td>\n",
       "      <td>NaN</td>\n",
       "      <td>NaN</td>\n",
       "      <td>CREDIT</td>\n",
       "      <td>CREDIT_IN_CASH</td>\n",
       "      <td>UNKNOWN</td>\n",
       "      <td>1</td>\n",
       "      <td>1100.0</td>\n",
       "      <td>has_defaulted</td>\n",
       "    </tr>\n",
       "    <tr>\n",
       "      <th>1</th>\n",
       "      <td>5314</td>\n",
       "      <td>1787</td>\n",
       "      <td>1993-07-05</td>\n",
       "      <td>96396</td>\n",
       "      <td>12</td>\n",
       "      <td>8033.0</td>\n",
       "      <td>B</td>\n",
       "      <td>30</td>\n",
       "      <td>Sokolov</td>\n",
       "      <td>west Bohemia</td>\n",
       "      <td>...</td>\n",
       "      <td>9900.0</td>\n",
       "      <td>11000.0</td>\n",
       "      <td>NaN</td>\n",
       "      <td>NaN</td>\n",
       "      <td>CREDIT</td>\n",
       "      <td>CREDIT_IN_CASH</td>\n",
       "      <td>UNKNOWN</td>\n",
       "      <td>1</td>\n",
       "      <td>9900.0</td>\n",
       "      <td>has_defaulted</td>\n",
       "    </tr>\n",
       "    <tr>\n",
       "      <th>2</th>\n",
       "      <td>5314</td>\n",
       "      <td>1787</td>\n",
       "      <td>1993-07-05</td>\n",
       "      <td>96396</td>\n",
       "      <td>12</td>\n",
       "      <td>8033.0</td>\n",
       "      <td>B</td>\n",
       "      <td>30</td>\n",
       "      <td>Sokolov</td>\n",
       "      <td>west Bohemia</td>\n",
       "      <td>...</td>\n",
       "      <td>5800.0</td>\n",
       "      <td>16800.0</td>\n",
       "      <td>NaN</td>\n",
       "      <td>NaN</td>\n",
       "      <td>CREDIT</td>\n",
       "      <td>CREDIT_IN_CASH</td>\n",
       "      <td>UNKNOWN</td>\n",
       "      <td>1</td>\n",
       "      <td>5800.0</td>\n",
       "      <td>has_defaulted</td>\n",
       "    </tr>\n",
       "    <tr>\n",
       "      <th>3</th>\n",
       "      <td>5314</td>\n",
       "      <td>1787</td>\n",
       "      <td>1993-07-05</td>\n",
       "      <td>96396</td>\n",
       "      <td>12</td>\n",
       "      <td>8033.0</td>\n",
       "      <td>B</td>\n",
       "      <td>30</td>\n",
       "      <td>Sokolov</td>\n",
       "      <td>west Bohemia</td>\n",
       "      <td>...</td>\n",
       "      <td>3300.0</td>\n",
       "      <td>20100.0</td>\n",
       "      <td>NaN</td>\n",
       "      <td>NaN</td>\n",
       "      <td>CREDIT</td>\n",
       "      <td>CREDIT_IN_CASH</td>\n",
       "      <td>UNKNOWN</td>\n",
       "      <td>1</td>\n",
       "      <td>3300.0</td>\n",
       "      <td>has_defaulted</td>\n",
       "    </tr>\n",
       "    <tr>\n",
       "      <th>4</th>\n",
       "      <td>5314</td>\n",
       "      <td>1787</td>\n",
       "      <td>1993-07-05</td>\n",
       "      <td>96396</td>\n",
       "      <td>12</td>\n",
       "      <td>8033.0</td>\n",
       "      <td>B</td>\n",
       "      <td>30</td>\n",
       "      <td>Sokolov</td>\n",
       "      <td>west Bohemia</td>\n",
       "      <td>...</td>\n",
       "      <td>42248.0</td>\n",
       "      <td>62348.0</td>\n",
       "      <td>NaN</td>\n",
       "      <td>NaN</td>\n",
       "      <td>CREDIT</td>\n",
       "      <td>CREDIT_IN_CASH</td>\n",
       "      <td>UNKNOWN</td>\n",
       "      <td>1</td>\n",
       "      <td>42248.0</td>\n",
       "      <td>has_defaulted</td>\n",
       "    </tr>\n",
       "    <tr>\n",
       "      <th>...</th>\n",
       "      <td>...</td>\n",
       "      <td>...</td>\n",
       "      <td>...</td>\n",
       "      <td>...</td>\n",
       "      <td>...</td>\n",
       "      <td>...</td>\n",
       "      <td>...</td>\n",
       "      <td>...</td>\n",
       "      <td>...</td>\n",
       "      <td>...</td>\n",
       "      <td>...</td>\n",
       "      <td>...</td>\n",
       "      <td>...</td>\n",
       "      <td>...</td>\n",
       "      <td>...</td>\n",
       "      <td>...</td>\n",
       "      <td>...</td>\n",
       "      <td>...</td>\n",
       "      <td>...</td>\n",
       "      <td>...</td>\n",
       "      <td>...</td>\n",
       "    </tr>\n",
       "    <tr>\n",
       "      <th>191551</th>\n",
       "      <td>6748</td>\n",
       "      <td>8645</td>\n",
       "      <td>1998-12-08</td>\n",
       "      <td>240900</td>\n",
       "      <td>60</td>\n",
       "      <td>4015.0</td>\n",
       "      <td>C</td>\n",
       "      <td>60</td>\n",
       "      <td>Prostejov</td>\n",
       "      <td>south Moravia</td>\n",
       "      <td>...</td>\n",
       "      <td>4015.0</td>\n",
       "      <td>15798.8</td>\n",
       "      <td>CD</td>\n",
       "      <td>50500750.0</td>\n",
       "      <td>WITHDRAWAL</td>\n",
       "      <td>REMITTANCE_TO_OTHER_BANK</td>\n",
       "      <td>LOAN_PAYMENT</td>\n",
       "      <td>-1</td>\n",
       "      <td>-4015.0</td>\n",
       "      <td>has_not_defaulted</td>\n",
       "    </tr>\n",
       "    <tr>\n",
       "      <th>191552</th>\n",
       "      <td>6748</td>\n",
       "      <td>8645</td>\n",
       "      <td>1998-12-08</td>\n",
       "      <td>240900</td>\n",
       "      <td>60</td>\n",
       "      <td>4015.0</td>\n",
       "      <td>C</td>\n",
       "      <td>60</td>\n",
       "      <td>Prostejov</td>\n",
       "      <td>south Moravia</td>\n",
       "      <td>...</td>\n",
       "      <td>25394.0</td>\n",
       "      <td>41192.8</td>\n",
       "      <td>NaN</td>\n",
       "      <td>NaN</td>\n",
       "      <td>CREDIT</td>\n",
       "      <td>CREDIT_IN_CASH</td>\n",
       "      <td>UNKNOWN</td>\n",
       "      <td>1</td>\n",
       "      <td>25394.0</td>\n",
       "      <td>has_not_defaulted</td>\n",
       "    </tr>\n",
       "    <tr>\n",
       "      <th>191553</th>\n",
       "      <td>6748</td>\n",
       "      <td>8645</td>\n",
       "      <td>1998-12-08</td>\n",
       "      <td>240900</td>\n",
       "      <td>60</td>\n",
       "      <td>4015.0</td>\n",
       "      <td>C</td>\n",
       "      <td>60</td>\n",
       "      <td>Prostejov</td>\n",
       "      <td>south Moravia</td>\n",
       "      <td>...</td>\n",
       "      <td>3840.0</td>\n",
       "      <td>37352.8</td>\n",
       "      <td>NaN</td>\n",
       "      <td>NaN</td>\n",
       "      <td>WITHDRAWAL</td>\n",
       "      <td>WITHDRAWAL_IN_CASH</td>\n",
       "      <td>UNKNOWN</td>\n",
       "      <td>-1</td>\n",
       "      <td>-3840.0</td>\n",
       "      <td>has_not_defaulted</td>\n",
       "    </tr>\n",
       "    <tr>\n",
       "      <th>191554</th>\n",
       "      <td>6748</td>\n",
       "      <td>8645</td>\n",
       "      <td>1998-12-08</td>\n",
       "      <td>240900</td>\n",
       "      <td>60</td>\n",
       "      <td>4015.0</td>\n",
       "      <td>C</td>\n",
       "      <td>60</td>\n",
       "      <td>Prostejov</td>\n",
       "      <td>south Moravia</td>\n",
       "      <td>...</td>\n",
       "      <td>127.7</td>\n",
       "      <td>37613.0</td>\n",
       "      <td>NaN</td>\n",
       "      <td>NaN</td>\n",
       "      <td>CREDIT</td>\n",
       "      <td>UNKNOWN</td>\n",
       "      <td>INTEREST_CREDITED</td>\n",
       "      <td>1</td>\n",
       "      <td>127.7</td>\n",
       "      <td>has_not_defaulted</td>\n",
       "    </tr>\n",
       "    <tr>\n",
       "      <th>191555</th>\n",
       "      <td>6748</td>\n",
       "      <td>8645</td>\n",
       "      <td>1998-12-08</td>\n",
       "      <td>240900</td>\n",
       "      <td>60</td>\n",
       "      <td>4015.0</td>\n",
       "      <td>C</td>\n",
       "      <td>60</td>\n",
       "      <td>Prostejov</td>\n",
       "      <td>south Moravia</td>\n",
       "      <td>...</td>\n",
       "      <td>132.5</td>\n",
       "      <td>37485.4</td>\n",
       "      <td>NaN</td>\n",
       "      <td>NaN</td>\n",
       "      <td>CREDIT</td>\n",
       "      <td>UNKNOWN</td>\n",
       "      <td>INTEREST_CREDITED</td>\n",
       "      <td>1</td>\n",
       "      <td>132.5</td>\n",
       "      <td>has_not_defaulted</td>\n",
       "    </tr>\n",
       "  </tbody>\n",
       "</table>\n",
       "<p>191556 rows × 34 columns</p>\n",
       "</div>"
      ],
      "text/plain": [
       "        loan_id  account_id      date_x  loan_amount  loan_duration  \\\n",
       "0          5314        1787  1993-07-05        96396             12   \n",
       "1          5314        1787  1993-07-05        96396             12   \n",
       "2          5314        1787  1993-07-05        96396             12   \n",
       "3          5314        1787  1993-07-05        96396             12   \n",
       "4          5314        1787  1993-07-05        96396             12   \n",
       "...         ...         ...         ...          ...            ...   \n",
       "191551     6748        8645  1998-12-08       240900             60   \n",
       "191552     6748        8645  1998-12-08       240900             60   \n",
       "191553     6748        8645  1998-12-08       240900             60   \n",
       "191554     6748        8645  1998-12-08       240900             60   \n",
       "191555     6748        8645  1998-12-08       240900             60   \n",
       "\n",
       "        monthly_loan_payment loan_status  district_id district_name  \\\n",
       "0                     8033.0           B           30       Sokolov   \n",
       "1                     8033.0           B           30       Sokolov   \n",
       "2                     8033.0           B           30       Sokolov   \n",
       "3                     8033.0           B           30       Sokolov   \n",
       "4                     8033.0           B           30       Sokolov   \n",
       "...                      ...         ...          ...           ...   \n",
       "191551                4015.0           C           60     Prostejov   \n",
       "191552                4015.0           C           60     Prostejov   \n",
       "191553                4015.0           C           60     Prostejov   \n",
       "191554                4015.0           C           60     Prostejov   \n",
       "191555                4015.0           C           60     Prostejov   \n",
       "\n",
       "               region  ...   amount  balance  bank     account  trans_type  \\\n",
       "0        west Bohemia  ...   1100.0   1100.0   NaN         NaN      CREDIT   \n",
       "1        west Bohemia  ...   9900.0  11000.0   NaN         NaN      CREDIT   \n",
       "2        west Bohemia  ...   5800.0  16800.0   NaN         NaN      CREDIT   \n",
       "3        west Bohemia  ...   3300.0  20100.0   NaN         NaN      CREDIT   \n",
       "4        west Bohemia  ...  42248.0  62348.0   NaN         NaN      CREDIT   \n",
       "...               ...  ...      ...      ...   ...         ...         ...   \n",
       "191551  south Moravia  ...   4015.0  15798.8    CD  50500750.0  WITHDRAWAL   \n",
       "191552  south Moravia  ...  25394.0  41192.8   NaN         NaN      CREDIT   \n",
       "191553  south Moravia  ...   3840.0  37352.8   NaN         NaN  WITHDRAWAL   \n",
       "191554  south Moravia  ...    127.7  37613.0   NaN         NaN      CREDIT   \n",
       "191555  south Moravia  ...    132.5  37485.4   NaN         NaN      CREDIT   \n",
       "\n",
       "                 trans_operation     trans_k_symbol  amount_multiplier  \\\n",
       "0                 CREDIT_IN_CASH            UNKNOWN                  1   \n",
       "1                 CREDIT_IN_CASH            UNKNOWN                  1   \n",
       "2                 CREDIT_IN_CASH            UNKNOWN                  1   \n",
       "3                 CREDIT_IN_CASH            UNKNOWN                  1   \n",
       "4                 CREDIT_IN_CASH            UNKNOWN                  1   \n",
       "...                          ...                ...                ...   \n",
       "191551  REMITTANCE_TO_OTHER_BANK       LOAN_PAYMENT                 -1   \n",
       "191552            CREDIT_IN_CASH            UNKNOWN                  1   \n",
       "191553        WITHDRAWAL_IN_CASH            UNKNOWN                 -1   \n",
       "191554                   UNKNOWN  INTEREST_CREDITED                  1   \n",
       "191555                   UNKNOWN  INTEREST_CREDITED                  1   \n",
       "\n",
       "        trans_amount  loan_status_defaulted  \n",
       "0             1100.0          has_defaulted  \n",
       "1             9900.0          has_defaulted  \n",
       "2             5800.0          has_defaulted  \n",
       "3             3300.0          has_defaulted  \n",
       "4            42248.0          has_defaulted  \n",
       "...              ...                    ...  \n",
       "191551       -4015.0      has_not_defaulted  \n",
       "191552       25394.0      has_not_defaulted  \n",
       "191553       -3840.0      has_not_defaulted  \n",
       "191554         127.7      has_not_defaulted  \n",
       "191555         132.5      has_not_defaulted  \n",
       "\n",
       "[191556 rows x 34 columns]"
      ]
     },
     "execution_count": 761,
     "metadata": {},
     "output_type": "execute_result"
    }
   ],
   "source": [
    "df_loan_account_district_trans"
   ]
  },
  {
   "cell_type": "code",
   "execution_count": 762,
   "metadata": {},
   "outputs": [],
   "source": [
    "df_loan_account_district_trans_selected = df_loan_account_district_trans[['loan_amount', 'loan_duration', 'monthly_loan_payment', 'num_inhabitants', 'num_munipalities_gt499', 'num_munipalities_500to1999', 'num_munipalities_2000to9999', 'num_munipalities_gt10000', 'num_cities', 'ratio_urban', 'average_salary', 'unemp_rate95', 'unemp_rate96', 'num_entrep_per1000', 'num_crimes95', 'num_crimes96', 'balance', 'trans_amount', 'district_name', 'region', 'trans_type', 'trans_operation', 'trans_k_symbol', 'loan_status_defaulted']]"
   ]
  },
  {
   "cell_type": "code",
   "execution_count": 763,
   "metadata": {},
   "outputs": [],
   "source": [
    "cat_var = ['district_name', 'region', 'trans_type', 'trans_operation', 'trans_k_symbol']"
   ]
  },
  {
   "cell_type": "code",
   "execution_count": 764,
   "metadata": {},
   "outputs": [],
   "source": [
    "df_loan_account_district_trans_selected_dumm = pd.get_dummies(df_loan_account_district_trans_selected, columns = cat_var, drop_first = True)"
   ]
  },
  {
   "cell_type": "code",
   "execution_count": 765,
   "metadata": {},
   "outputs": [
    {
     "data": {
      "text/html": [
       "<div>\n",
       "<style scoped>\n",
       "    .dataframe tbody tr th:only-of-type {\n",
       "        vertical-align: middle;\n",
       "    }\n",
       "\n",
       "    .dataframe tbody tr th {\n",
       "        vertical-align: top;\n",
       "    }\n",
       "\n",
       "    .dataframe thead th {\n",
       "        text-align: right;\n",
       "    }\n",
       "</style>\n",
       "<table border=\"1\" class=\"dataframe\">\n",
       "  <thead>\n",
       "    <tr style=\"text-align: right;\">\n",
       "      <th></th>\n",
       "      <th>loan_amount</th>\n",
       "      <th>loan_duration</th>\n",
       "      <th>monthly_loan_payment</th>\n",
       "      <th>num_inhabitants</th>\n",
       "      <th>num_munipalities_gt499</th>\n",
       "      <th>num_munipalities_500to1999</th>\n",
       "      <th>num_munipalities_2000to9999</th>\n",
       "      <th>num_munipalities_gt10000</th>\n",
       "      <th>num_cities</th>\n",
       "      <th>ratio_urban</th>\n",
       "      <th>...</th>\n",
       "      <th>trans_operation_CREDIT_IN_CASH</th>\n",
       "      <th>trans_operation_REMITTANCE_TO_OTHER_BANK</th>\n",
       "      <th>trans_operation_UNKNOWN</th>\n",
       "      <th>trans_operation_WITHDRAWAL_IN_CASH</th>\n",
       "      <th>trans_k_symbol_INSURANCE_PAYMENT</th>\n",
       "      <th>trans_k_symbol_INTEREST_CREDITED</th>\n",
       "      <th>trans_k_symbol_LOAN_PAYMENT</th>\n",
       "      <th>trans_k_symbol_PAYMENT_ON_STATEMENT</th>\n",
       "      <th>trans_k_symbol_SANCTION_INTEREST</th>\n",
       "      <th>trans_k_symbol_UNKNOWN</th>\n",
       "    </tr>\n",
       "  </thead>\n",
       "  <tbody>\n",
       "    <tr>\n",
       "      <th>0</th>\n",
       "      <td>96396</td>\n",
       "      <td>12</td>\n",
       "      <td>8033.0</td>\n",
       "      <td>94812</td>\n",
       "      <td>15</td>\n",
       "      <td>13</td>\n",
       "      <td>8</td>\n",
       "      <td>2</td>\n",
       "      <td>10</td>\n",
       "      <td>81.8</td>\n",
       "      <td>...</td>\n",
       "      <td>1</td>\n",
       "      <td>0</td>\n",
       "      <td>0</td>\n",
       "      <td>0</td>\n",
       "      <td>0</td>\n",
       "      <td>0</td>\n",
       "      <td>0</td>\n",
       "      <td>0</td>\n",
       "      <td>0</td>\n",
       "      <td>1</td>\n",
       "    </tr>\n",
       "    <tr>\n",
       "      <th>1</th>\n",
       "      <td>96396</td>\n",
       "      <td>12</td>\n",
       "      <td>8033.0</td>\n",
       "      <td>94812</td>\n",
       "      <td>15</td>\n",
       "      <td>13</td>\n",
       "      <td>8</td>\n",
       "      <td>2</td>\n",
       "      <td>10</td>\n",
       "      <td>81.8</td>\n",
       "      <td>...</td>\n",
       "      <td>1</td>\n",
       "      <td>0</td>\n",
       "      <td>0</td>\n",
       "      <td>0</td>\n",
       "      <td>0</td>\n",
       "      <td>0</td>\n",
       "      <td>0</td>\n",
       "      <td>0</td>\n",
       "      <td>0</td>\n",
       "      <td>1</td>\n",
       "    </tr>\n",
       "    <tr>\n",
       "      <th>2</th>\n",
       "      <td>96396</td>\n",
       "      <td>12</td>\n",
       "      <td>8033.0</td>\n",
       "      <td>94812</td>\n",
       "      <td>15</td>\n",
       "      <td>13</td>\n",
       "      <td>8</td>\n",
       "      <td>2</td>\n",
       "      <td>10</td>\n",
       "      <td>81.8</td>\n",
       "      <td>...</td>\n",
       "      <td>1</td>\n",
       "      <td>0</td>\n",
       "      <td>0</td>\n",
       "      <td>0</td>\n",
       "      <td>0</td>\n",
       "      <td>0</td>\n",
       "      <td>0</td>\n",
       "      <td>0</td>\n",
       "      <td>0</td>\n",
       "      <td>1</td>\n",
       "    </tr>\n",
       "    <tr>\n",
       "      <th>3</th>\n",
       "      <td>96396</td>\n",
       "      <td>12</td>\n",
       "      <td>8033.0</td>\n",
       "      <td>94812</td>\n",
       "      <td>15</td>\n",
       "      <td>13</td>\n",
       "      <td>8</td>\n",
       "      <td>2</td>\n",
       "      <td>10</td>\n",
       "      <td>81.8</td>\n",
       "      <td>...</td>\n",
       "      <td>1</td>\n",
       "      <td>0</td>\n",
       "      <td>0</td>\n",
       "      <td>0</td>\n",
       "      <td>0</td>\n",
       "      <td>0</td>\n",
       "      <td>0</td>\n",
       "      <td>0</td>\n",
       "      <td>0</td>\n",
       "      <td>1</td>\n",
       "    </tr>\n",
       "    <tr>\n",
       "      <th>4</th>\n",
       "      <td>96396</td>\n",
       "      <td>12</td>\n",
       "      <td>8033.0</td>\n",
       "      <td>94812</td>\n",
       "      <td>15</td>\n",
       "      <td>13</td>\n",
       "      <td>8</td>\n",
       "      <td>2</td>\n",
       "      <td>10</td>\n",
       "      <td>81.8</td>\n",
       "      <td>...</td>\n",
       "      <td>1</td>\n",
       "      <td>0</td>\n",
       "      <td>0</td>\n",
       "      <td>0</td>\n",
       "      <td>0</td>\n",
       "      <td>0</td>\n",
       "      <td>0</td>\n",
       "      <td>0</td>\n",
       "      <td>0</td>\n",
       "      <td>1</td>\n",
       "    </tr>\n",
       "    <tr>\n",
       "      <th>...</th>\n",
       "      <td>...</td>\n",
       "      <td>...</td>\n",
       "      <td>...</td>\n",
       "      <td>...</td>\n",
       "      <td>...</td>\n",
       "      <td>...</td>\n",
       "      <td>...</td>\n",
       "      <td>...</td>\n",
       "      <td>...</td>\n",
       "      <td>...</td>\n",
       "      <td>...</td>\n",
       "      <td>...</td>\n",
       "      <td>...</td>\n",
       "      <td>...</td>\n",
       "      <td>...</td>\n",
       "      <td>...</td>\n",
       "      <td>...</td>\n",
       "      <td>...</td>\n",
       "      <td>...</td>\n",
       "      <td>...</td>\n",
       "      <td>...</td>\n",
       "    </tr>\n",
       "    <tr>\n",
       "      <th>191551</th>\n",
       "      <td>240900</td>\n",
       "      <td>60</td>\n",
       "      <td>4015.0</td>\n",
       "      <td>110643</td>\n",
       "      <td>49</td>\n",
       "      <td>41</td>\n",
       "      <td>4</td>\n",
       "      <td>1</td>\n",
       "      <td>4</td>\n",
       "      <td>51.9</td>\n",
       "      <td>...</td>\n",
       "      <td>0</td>\n",
       "      <td>1</td>\n",
       "      <td>0</td>\n",
       "      <td>0</td>\n",
       "      <td>0</td>\n",
       "      <td>0</td>\n",
       "      <td>1</td>\n",
       "      <td>0</td>\n",
       "      <td>0</td>\n",
       "      <td>0</td>\n",
       "    </tr>\n",
       "    <tr>\n",
       "      <th>191552</th>\n",
       "      <td>240900</td>\n",
       "      <td>60</td>\n",
       "      <td>4015.0</td>\n",
       "      <td>110643</td>\n",
       "      <td>49</td>\n",
       "      <td>41</td>\n",
       "      <td>4</td>\n",
       "      <td>1</td>\n",
       "      <td>4</td>\n",
       "      <td>51.9</td>\n",
       "      <td>...</td>\n",
       "      <td>1</td>\n",
       "      <td>0</td>\n",
       "      <td>0</td>\n",
       "      <td>0</td>\n",
       "      <td>0</td>\n",
       "      <td>0</td>\n",
       "      <td>0</td>\n",
       "      <td>0</td>\n",
       "      <td>0</td>\n",
       "      <td>1</td>\n",
       "    </tr>\n",
       "    <tr>\n",
       "      <th>191553</th>\n",
       "      <td>240900</td>\n",
       "      <td>60</td>\n",
       "      <td>4015.0</td>\n",
       "      <td>110643</td>\n",
       "      <td>49</td>\n",
       "      <td>41</td>\n",
       "      <td>4</td>\n",
       "      <td>1</td>\n",
       "      <td>4</td>\n",
       "      <td>51.9</td>\n",
       "      <td>...</td>\n",
       "      <td>0</td>\n",
       "      <td>0</td>\n",
       "      <td>0</td>\n",
       "      <td>1</td>\n",
       "      <td>0</td>\n",
       "      <td>0</td>\n",
       "      <td>0</td>\n",
       "      <td>0</td>\n",
       "      <td>0</td>\n",
       "      <td>1</td>\n",
       "    </tr>\n",
       "    <tr>\n",
       "      <th>191554</th>\n",
       "      <td>240900</td>\n",
       "      <td>60</td>\n",
       "      <td>4015.0</td>\n",
       "      <td>110643</td>\n",
       "      <td>49</td>\n",
       "      <td>41</td>\n",
       "      <td>4</td>\n",
       "      <td>1</td>\n",
       "      <td>4</td>\n",
       "      <td>51.9</td>\n",
       "      <td>...</td>\n",
       "      <td>0</td>\n",
       "      <td>0</td>\n",
       "      <td>1</td>\n",
       "      <td>0</td>\n",
       "      <td>0</td>\n",
       "      <td>1</td>\n",
       "      <td>0</td>\n",
       "      <td>0</td>\n",
       "      <td>0</td>\n",
       "      <td>0</td>\n",
       "    </tr>\n",
       "    <tr>\n",
       "      <th>191555</th>\n",
       "      <td>240900</td>\n",
       "      <td>60</td>\n",
       "      <td>4015.0</td>\n",
       "      <td>110643</td>\n",
       "      <td>49</td>\n",
       "      <td>41</td>\n",
       "      <td>4</td>\n",
       "      <td>1</td>\n",
       "      <td>4</td>\n",
       "      <td>51.9</td>\n",
       "      <td>...</td>\n",
       "      <td>0</td>\n",
       "      <td>0</td>\n",
       "      <td>1</td>\n",
       "      <td>0</td>\n",
       "      <td>0</td>\n",
       "      <td>1</td>\n",
       "      <td>0</td>\n",
       "      <td>0</td>\n",
       "      <td>0</td>\n",
       "      <td>0</td>\n",
       "    </tr>\n",
       "  </tbody>\n",
       "</table>\n",
       "<p>191556 rows × 115 columns</p>\n",
       "</div>"
      ],
      "text/plain": [
       "        loan_amount  loan_duration  monthly_loan_payment  num_inhabitants  \\\n",
       "0             96396             12                8033.0            94812   \n",
       "1             96396             12                8033.0            94812   \n",
       "2             96396             12                8033.0            94812   \n",
       "3             96396             12                8033.0            94812   \n",
       "4             96396             12                8033.0            94812   \n",
       "...             ...            ...                   ...              ...   \n",
       "191551       240900             60                4015.0           110643   \n",
       "191552       240900             60                4015.0           110643   \n",
       "191553       240900             60                4015.0           110643   \n",
       "191554       240900             60                4015.0           110643   \n",
       "191555       240900             60                4015.0           110643   \n",
       "\n",
       "        num_munipalities_gt499  num_munipalities_500to1999  \\\n",
       "0                           15                          13   \n",
       "1                           15                          13   \n",
       "2                           15                          13   \n",
       "3                           15                          13   \n",
       "4                           15                          13   \n",
       "...                        ...                         ...   \n",
       "191551                      49                          41   \n",
       "191552                      49                          41   \n",
       "191553                      49                          41   \n",
       "191554                      49                          41   \n",
       "191555                      49                          41   \n",
       "\n",
       "        num_munipalities_2000to9999  num_munipalities_gt10000  num_cities  \\\n",
       "0                                 8                         2          10   \n",
       "1                                 8                         2          10   \n",
       "2                                 8                         2          10   \n",
       "3                                 8                         2          10   \n",
       "4                                 8                         2          10   \n",
       "...                             ...                       ...         ...   \n",
       "191551                            4                         1           4   \n",
       "191552                            4                         1           4   \n",
       "191553                            4                         1           4   \n",
       "191554                            4                         1           4   \n",
       "191555                            4                         1           4   \n",
       "\n",
       "        ratio_urban  ...  trans_operation_CREDIT_IN_CASH  \\\n",
       "0              81.8  ...                               1   \n",
       "1              81.8  ...                               1   \n",
       "2              81.8  ...                               1   \n",
       "3              81.8  ...                               1   \n",
       "4              81.8  ...                               1   \n",
       "...             ...  ...                             ...   \n",
       "191551         51.9  ...                               0   \n",
       "191552         51.9  ...                               1   \n",
       "191553         51.9  ...                               0   \n",
       "191554         51.9  ...                               0   \n",
       "191555         51.9  ...                               0   \n",
       "\n",
       "        trans_operation_REMITTANCE_TO_OTHER_BANK  trans_operation_UNKNOWN  \\\n",
       "0                                              0                        0   \n",
       "1                                              0                        0   \n",
       "2                                              0                        0   \n",
       "3                                              0                        0   \n",
       "4                                              0                        0   \n",
       "...                                          ...                      ...   \n",
       "191551                                         1                        0   \n",
       "191552                                         0                        0   \n",
       "191553                                         0                        0   \n",
       "191554                                         0                        1   \n",
       "191555                                         0                        1   \n",
       "\n",
       "        trans_operation_WITHDRAWAL_IN_CASH  trans_k_symbol_INSURANCE_PAYMENT  \\\n",
       "0                                        0                                 0   \n",
       "1                                        0                                 0   \n",
       "2                                        0                                 0   \n",
       "3                                        0                                 0   \n",
       "4                                        0                                 0   \n",
       "...                                    ...                               ...   \n",
       "191551                                   0                                 0   \n",
       "191552                                   0                                 0   \n",
       "191553                                   1                                 0   \n",
       "191554                                   0                                 0   \n",
       "191555                                   0                                 0   \n",
       "\n",
       "        trans_k_symbol_INTEREST_CREDITED  trans_k_symbol_LOAN_PAYMENT  \\\n",
       "0                                      0                            0   \n",
       "1                                      0                            0   \n",
       "2                                      0                            0   \n",
       "3                                      0                            0   \n",
       "4                                      0                            0   \n",
       "...                                  ...                          ...   \n",
       "191551                                 0                            1   \n",
       "191552                                 0                            0   \n",
       "191553                                 0                            0   \n",
       "191554                                 1                            0   \n",
       "191555                                 1                            0   \n",
       "\n",
       "        trans_k_symbol_PAYMENT_ON_STATEMENT trans_k_symbol_SANCTION_INTEREST  \\\n",
       "0                                         0                                0   \n",
       "1                                         0                                0   \n",
       "2                                         0                                0   \n",
       "3                                         0                                0   \n",
       "4                                         0                                0   \n",
       "...                                     ...                              ...   \n",
       "191551                                    0                                0   \n",
       "191552                                    0                                0   \n",
       "191553                                    0                                0   \n",
       "191554                                    0                                0   \n",
       "191555                                    0                                0   \n",
       "\n",
       "        trans_k_symbol_UNKNOWN  \n",
       "0                            1  \n",
       "1                            1  \n",
       "2                            1  \n",
       "3                            1  \n",
       "4                            1  \n",
       "...                        ...  \n",
       "191551                       0  \n",
       "191552                       1  \n",
       "191553                       1  \n",
       "191554                       0  \n",
       "191555                       0  \n",
       "\n",
       "[191556 rows x 115 columns]"
      ]
     },
     "execution_count": 765,
     "metadata": {},
     "output_type": "execute_result"
    }
   ],
   "source": [
    "df_loan_account_district_trans_selected_dumm"
   ]
  },
  {
   "cell_type": "code",
   "execution_count": 766,
   "metadata": {},
   "outputs": [
    {
     "data": {
      "text/html": [
       "<div>\n",
       "<style scoped>\n",
       "    .dataframe tbody tr th:only-of-type {\n",
       "        vertical-align: middle;\n",
       "    }\n",
       "\n",
       "    .dataframe tbody tr th {\n",
       "        vertical-align: top;\n",
       "    }\n",
       "\n",
       "    .dataframe thead th {\n",
       "        text-align: right;\n",
       "    }\n",
       "</style>\n",
       "<table border=\"1\" class=\"dataframe\">\n",
       "  <thead>\n",
       "    <tr style=\"text-align: right;\">\n",
       "      <th></th>\n",
       "      <th>loan_status_defaulted</th>\n",
       "    </tr>\n",
       "  </thead>\n",
       "  <tbody>\n",
       "    <tr>\n",
       "      <th>0</th>\n",
       "      <td>has_defaulted</td>\n",
       "    </tr>\n",
       "    <tr>\n",
       "      <th>1</th>\n",
       "      <td>has_defaulted</td>\n",
       "    </tr>\n",
       "    <tr>\n",
       "      <th>2</th>\n",
       "      <td>has_defaulted</td>\n",
       "    </tr>\n",
       "    <tr>\n",
       "      <th>3</th>\n",
       "      <td>has_defaulted</td>\n",
       "    </tr>\n",
       "    <tr>\n",
       "      <th>4</th>\n",
       "      <td>has_defaulted</td>\n",
       "    </tr>\n",
       "    <tr>\n",
       "      <th>...</th>\n",
       "      <td>...</td>\n",
       "    </tr>\n",
       "    <tr>\n",
       "      <th>191551</th>\n",
       "      <td>has_not_defaulted</td>\n",
       "    </tr>\n",
       "    <tr>\n",
       "      <th>191552</th>\n",
       "      <td>has_not_defaulted</td>\n",
       "    </tr>\n",
       "    <tr>\n",
       "      <th>191553</th>\n",
       "      <td>has_not_defaulted</td>\n",
       "    </tr>\n",
       "    <tr>\n",
       "      <th>191554</th>\n",
       "      <td>has_not_defaulted</td>\n",
       "    </tr>\n",
       "    <tr>\n",
       "      <th>191555</th>\n",
       "      <td>has_not_defaulted</td>\n",
       "    </tr>\n",
       "  </tbody>\n",
       "</table>\n",
       "<p>191556 rows × 1 columns</p>\n",
       "</div>"
      ],
      "text/plain": [
       "       loan_status_defaulted\n",
       "0              has_defaulted\n",
       "1              has_defaulted\n",
       "2              has_defaulted\n",
       "3              has_defaulted\n",
       "4              has_defaulted\n",
       "...                      ...\n",
       "191551     has_not_defaulted\n",
       "191552     has_not_defaulted\n",
       "191553     has_not_defaulted\n",
       "191554     has_not_defaulted\n",
       "191555     has_not_defaulted\n",
       "\n",
       "[191556 rows x 1 columns]"
      ]
     },
     "execution_count": 766,
     "metadata": {},
     "output_type": "execute_result"
    }
   ],
   "source": [
    "df_loan_account_district_trans_selected_dumm[['loan_status_defaulted']]"
   ]
  },
  {
   "cell_type": "code",
   "execution_count": 767,
   "metadata": {},
   "outputs": [],
   "source": [
    "#df_train_dummies\n",
    "features_train_dummies = [col for col in df_loan_account_district_trans_selected_dumm._get_numeric_data().columns if col!='loan_status_defaulted']\n",
    "X = df_loan_account_district_trans_selected_dumm[features_train_dummies]\n",
    "y = df_loan_account_district_trans_selected_dumm['loan_status_defaulted']"
   ]
  },
  {
   "cell_type": "code",
   "execution_count": 768,
   "metadata": {},
   "outputs": [],
   "source": [
    "X_train, X_test, y_train, y_test = train_test_split(\n",
    "    X, y, random_state=42, stratify=y)"
   ]
  },
  {
   "cell_type": "markdown",
   "metadata": {},
   "source": [
    "**First Model - Logistic Regression**"
   ]
  },
  {
   "cell_type": "code",
   "execution_count": 769,
   "metadata": {},
   "outputs": [
    {
     "name": "stdout",
     "output_type": "stream",
     "text": [
      "Cross validation on over sampled train data:\n",
      " 0.883 \n",
      "\n",
      "Cross validation on test data: \n",
      " 0.884 \n",
      "\n"
     ]
    }
   ],
   "source": [
    "logreg = LogisticRegression()\n",
    "\n",
    "print(\"Cross validation on over sampled train data:\\n\",cross_val_score(logreg, X_train,y_train,n_jobs=-1, cv = 10).mean().round(3),\"\\n\")\n",
    "\n",
    "print(\"Cross validation on test data: \\n\", cross_val_score(logreg, X_test,y_test,n_jobs=-1, cv = 10).mean().round(3), \"\\n\")"
   ]
  },
  {
   "cell_type": "code",
   "execution_count": 770,
   "metadata": {},
   "outputs": [
    {
     "name": "stderr",
     "output_type": "stream",
     "text": [
      "C:\\Users\\engso\\anaconda3\\lib\\site-packages\\sklearn\\linear_model\\_logistic.py:764: ConvergenceWarning: lbfgs failed to converge (status=1):\n",
      "STOP: TOTAL NO. of ITERATIONS REACHED LIMIT.\n",
      "\n",
      "Increase the number of iterations (max_iter) or scale the data as shown in:\n",
      "    https://scikit-learn.org/stable/modules/preprocessing.html\n",
      "Please also refer to the documentation for alternative solver options:\n",
      "    https://scikit-learn.org/stable/modules/linear_model.html#logistic-regression\n",
      "  extra_warning_msg=_LOGISTIC_SOLVER_CONVERGENCE_MSG)\n"
     ]
    },
    {
     "name": "stdout",
     "output_type": "stream",
     "text": [
      "ROC score on train dataset:  0.709\n",
      "ROC score on test dataset:  0.709\n"
     ]
    }
   ],
   "source": [
    "logreg.fit(X_train, y_train)\n",
    "predicted = logreg.predict_proba(X_train)\n",
    "print(\"ROC score on train dataset: \", roc_auc_score(y_train, predicted[:,1]).round(3))\n",
    "predict = logreg.predict_proba(X_test)\n",
    "print(\"ROC score on test dataset: \", roc_auc_score(y_test, predict[:,1]).round(3))"
   ]
  },
  {
   "cell_type": "code",
   "execution_count": 771,
   "metadata": {},
   "outputs": [
    {
     "data": {
      "image/png": "[encoded data removed]",
      "text/plain": [
       "<Figure size 432x288 with 1 Axes>"
      ]
     },
     "metadata": {
      "needs_background": "light"
     },
     "output_type": "display_data"
    }
   ],
   "source": [
    "plot_roc_curve(logreg, X_test, y_test)\n",
    "plt.plot([0, 1], [0, 1],\n",
    "         label='baseline', linestyle='--')\n",
    "plt.legend();"
   ]
  },
  {
   "cell_type": "code",
   "execution_count": 772,
   "metadata": {},
   "outputs": [
    {
     "data": {
      "text/plain": [
       "0.7088870287408422"
      ]
     },
     "execution_count": 772,
     "metadata": {},
     "output_type": "execute_result"
    }
   ],
   "source": [
    "roc_auc_score(y_test, logreg.predict_proba(X_test)[:,1])"
   ]
  },
  {
   "cell_type": "code",
   "execution_count": 773,
   "metadata": {},
   "outputs": [
    {
     "name": "stdout",
     "output_type": "stream",
     "text": [
      "model accuracy on itself: 0.8836197595829244\n",
      "model accuracy on test set: 0.8842114055419825\n"
     ]
    }
   ],
   "source": [
    "print('model accuracy on itself:', logreg.score(X_train, y_train))\n",
    "print('model accuracy on test set:', logreg.score(X_test, y_test))"
   ]
  },
  {
   "cell_type": "markdown",
   "metadata": {},
   "source": [
    "**Second Model - Gradient Boosting Classifier**"
   ]
  },
  {
   "cell_type": "code",
   "execution_count": 774,
   "metadata": {},
   "outputs": [
    {
     "name": "stdout",
     "output_type": "stream",
     "text": [
      "Cross validation on train dataset: \n",
      " 0.946 \n",
      "\n",
      "Cross validation on test dataset: \n",
      " 0.945 \n",
      "\n"
     ]
    }
   ],
   "source": [
    "gbc = GradientBoostingClassifier()\n",
    "print(\"Cross validation on train dataset: \\n\", cross_val_score(gbc, X_train,y_train, n_jobs=-1, cv = 10).mean().round(3), \"\\n\")\n",
    "print(\"Cross validation on test dataset: \\n\", cross_val_score(gbc, X_test,y_test, n_jobs=-1, cv = 10).mean().round(3), \"\\n\")"
   ]
  },
  {
   "cell_type": "code",
   "execution_count": 775,
   "metadata": {},
   "outputs": [],
   "source": [
    "gbc.fit(X_train, y_train)\n",
    "predicted = gbc.predict_proba(X_train)\n",
    "#print(\"ROC score on train dataset: \", roc_auc_score(y_train, predicted[:,1]).round(3))\n",
    "predict = gbc.predict(X_test)\n",
    "#print(\"ROC score on test dataset: \", roc_auc_score(y_test, predict[:,1]).round(3))"
   ]
  },
  {
   "cell_type": "code",
   "execution_count": 776,
   "metadata": {},
   "outputs": [
    {
     "name": "stdout",
     "output_type": "stream",
     "text": [
      "Fitting 3 folds for each of 8 candidates, totalling 24 fits\n"
     ]
    },
    {
     "name": "stderr",
     "output_type": "stream",
     "text": [
      "[Parallel(n_jobs=1)]: Using backend SequentialBackend with 1 concurrent workers.\n",
      "[Parallel(n_jobs=1)]: Done  24 out of  24 | elapsed: 16.3min finished\n"
     ]
    },
    {
     "name": "stdout",
     "output_type": "stream",
     "text": [
      "0.9999930394593052\n"
     ]
    },
    {
     "data": {
      "text/plain": [
       "{'learning_rate': 1, 'max_depth': 4, 'n_estimators': 150}"
      ]
     },
     "execution_count": 776,
     "metadata": {},
     "output_type": "execute_result"
    }
   ],
   "source": [
    "gboost = GradientBoostingClassifier()\n",
    "gboost_params = {\n",
    "    'max_depth': [3,4],\n",
    "    'n_estimators': [125, 150],\n",
    "    'learning_rate': [.12,1]\n",
    "}\n",
    "gb_gs = GridSearchCV(gboost, param_grid=gboost_params, cv=3, verbose = 1)\n",
    "gb_gs.fit(X_train, y_train)\n",
    "print(gb_gs.best_score_)\n",
    "gb_gs.best_params_"
   ]
  },
  {
   "cell_type": "code",
   "execution_count": 777,
   "metadata": {},
   "outputs": [
    {
     "name": "stdout",
     "output_type": "stream",
     "text": [
      "ROC score on train dataset:  1.0\n",
      "ROC score on test dataset:  1.0\n"
     ]
    }
   ],
   "source": [
    "# Test gbc using gridserachcv updated results\n",
    "gbc_best = GradientBoostingClassifier(learning_rate=1, n_estimators=125, random_state=42, max_depth=4)\n",
    "gbc_best.fit(X_train, y_train)\n",
    "predicted = gbc_best.predict_proba(X_train)\n",
    "print(\"ROC score on train dataset: \", roc_auc_score(y_train, predicted[:,1]).round(3))\n",
    "predict = gbc_best.predict_proba(X_test)\n",
    "print(\"ROC score on test dataset: \", roc_auc_score(y_test, predict[:,1]).round(3))"
   ]
  },
  {
   "cell_type": "code",
   "execution_count": 778,
   "metadata": {},
   "outputs": [
    {
     "data": {
      "image/png": "[encoded data removed]",
      "text/plain": [
       "<Figure size 432x288 with 1 Axes>"
      ]
     },
     "metadata": {
      "needs_background": "light"
     },
     "output_type": "display_data"
    }
   ],
   "source": [
    "plot_roc_curve(gbc_best, X_test, y_test)\n",
    "plt.plot([0, 1], [0, 1],\n",
    "         label='baseline', linestyle='--')\n",
    "plt.legend();"
   ]
  },
  {
   "cell_type": "code",
   "execution_count": 779,
   "metadata": {},
   "outputs": [
    {
     "data": {
      "text/plain": [
       "1.0"
      ]
     },
     "execution_count": 779,
     "metadata": {},
     "output_type": "execute_result"
    }
   ],
   "source": [
    "roc_auc_score(y_test, gbc_best.predict_proba(X_test)[:,1])"
   ]
  },
  {
   "cell_type": "code",
   "execution_count": 780,
   "metadata": {},
   "outputs": [
    {
     "name": "stdout",
     "output_type": "stream",
     "text": [
      "model accuracy on itself: 1.0\n",
      "model accuracy on test set: 0.9999791183779156\n"
     ]
    }
   ],
   "source": [
    "print('model accuracy on itself:', gbc_best.score(X_train, y_train))\n",
    "print('model accuracy on test set:', gbc_best.score(X_test, y_test))"
   ]
  },
  {
   "cell_type": "code",
   "execution_count": 800,
   "metadata": {},
   "outputs": [
    {
     "data": {
      "image/png": "[encoded data removed]",
      "text/plain": [
       "<Figure size 720x720 with 1 Axes>"
      ]
     },
     "metadata": {
      "needs_background": "light"
     },
     "output_type": "display_data"
    }
   ],
   "source": [
    "# Plot feature importance\n",
    "feature_importance = gbc_best.feature_importances_\n",
    "# make importances relative to max importance\n",
    "feature_importance = 100.0 * (feature_importance / feature_importance.max())\n",
    "sorted_idx = np.argsort(feature_importance)[-20:]\n",
    "pos = np.arange(sorted_idx.shape[0]) + .2\n",
    "plt.figure(figsize = [10,10])\n",
    "plt.barh(pos, feature_importance[sorted_idx], align='center')\n",
    "plt.yticks(pos, X.columns[sorted_idx])\n",
    "plt.xlabel('Relative Importance')\n",
    "plt.title('Variable Importance')\n",
    "plt.show()"
   ]
  },
  {
   "cell_type": "markdown",
   "metadata": {},
   "source": [
    "**Third Model - Random Forest Classifier**"
   ]
  },
  {
   "cell_type": "code",
   "execution_count": 782,
   "metadata": {},
   "outputs": [
    {
     "name": "stdout",
     "output_type": "stream",
     "text": [
      "Cross validation score on train dataset:  1.0 \n",
      "\n",
      "Cross validation score on test dataset:  0.999 \n",
      "\n"
     ]
    }
   ],
   "source": [
    "rfc = RandomForestClassifier()\n",
    "print(\"Cross validation score on train dataset: \", cross_val_score(rfc, X_train,y_train, n_jobs=-1).mean().round(3), \"\\n\")\n",
    "print(\"Cross validation score on test dataset: \", cross_val_score(rfc, X_test,y_test, n_jobs=-1).mean().round(3), \"\\n\")"
   ]
  },
  {
   "cell_type": "code",
   "execution_count": 783,
   "metadata": {},
   "outputs": [
    {
     "name": "stdout",
     "output_type": "stream",
     "text": [
      "ROC score on train dataset:  1.0\n",
      "ROC score on test dataset:  1.0\n"
     ]
    }
   ],
   "source": [
    "rfc.fit(X_train, y_train)\n",
    "predicted = rfc.predict_proba(X_train)\n",
    "print(\"ROC score on train dataset: \", roc_auc_score(y_train, predicted[:,1]).round(3))\n",
    "predict = rfc.predict_proba(X_test)\n",
    "print(\"ROC score on test dataset: \", roc_auc_score(y_test, predict[:,1]).round(3))"
   ]
  },
  {
   "cell_type": "code",
   "execution_count": 784,
   "metadata": {},
   "outputs": [
    {
     "data": {
      "image/png": "[encoded data removed]",
      "text/plain": [
       "<Figure size 432x288 with 1 Axes>"
      ]
     },
     "metadata": {
      "needs_background": "light"
     },
     "output_type": "display_data"
    }
   ],
   "source": [
    "plot_roc_curve(rfc, X_test, y_test)\n",
    "plt.plot([0, 1], [0, 1],\n",
    "         label='baseline', linestyle='--')\n",
    "plt.legend();"
   ]
  },
  {
   "cell_type": "code",
   "execution_count": 785,
   "metadata": {},
   "outputs": [
    {
     "data": {
      "text/plain": [
       "0.9999996564107854"
      ]
     },
     "execution_count": 785,
     "metadata": {},
     "output_type": "execute_result"
    }
   ],
   "source": [
    "roc_auc_score(y_test, rfc.predict_proba(X_test)[:,1])"
   ]
  },
  {
   "cell_type": "code",
   "execution_count": 786,
   "metadata": {},
   "outputs": [
    {
     "name": "stdout",
     "output_type": "stream",
     "text": [
      "model accuracy on itself: 1.0\n",
      "model accuracy on test set: 0.9998120654012403\n"
     ]
    }
   ],
   "source": [
    "print('model accuracy on itself:', rfc.score(X_train, y_train))\n",
    "print('model accuracy on test set:', rfc.score(X_test, y_test))"
   ]
  },
  {
   "cell_type": "code",
   "execution_count": 787,
   "metadata": {},
   "outputs": [
    {
     "data": {
      "image/png": "[encoded data removed]",
      "text/plain": [
       "<Figure size 720x720 with 1 Axes>"
      ]
     },
     "metadata": {
      "needs_background": "light"
     },
     "output_type": "display_data"
    }
   ],
   "source": [
    "# Plot feature importance\n",
    "feature_importance = rfc.feature_importances_\n",
    "# make importances relative to max importance\n",
    "feature_importance = 100.0 * (feature_importance / feature_importance.max())\n",
    "sorted_idx = np.argsort(feature_importance)[-20:]\n",
    "pos = np.arange(sorted_idx.shape[0]) + .2\n",
    "plt.figure(figsize = [10,10])\n",
    "plt.barh(pos, feature_importance[sorted_idx], align='center')\n",
    "plt.yticks(pos, X.columns[sorted_idx])\n",
    "plt.xlabel('Relative Importance')\n",
    "plt.title('Variable Importance')\n",
    "plt.show()"
   ]
  },
  {
   "cell_type": "markdown",
   "metadata": {},
   "source": [
    "**Fourth Model - Decision Tree Classifier**"
   ]
  },
  {
   "cell_type": "code",
   "execution_count": 788,
   "metadata": {},
   "outputs": [],
   "source": [
    "from sklearn.tree import DecisionTreeClassifier\n",
    "from sklearn import tree, ensemble, metrics"
   ]
  },
  {
   "cell_type": "code",
   "execution_count": 789,
   "metadata": {},
   "outputs": [
    {
     "name": "stdout",
     "output_type": "stream",
     "text": [
      "Cross validation score on train dataset:  0.999 \n",
      "\n",
      "Cross validation score on test dataset:  0.996 \n",
      "\n"
     ]
    }
   ],
   "source": [
    "dtree = tree.DecisionTreeClassifier()\n",
    "print(\"Cross validation score on train dataset: \", cross_val_score(dtree, X_train,y_train, n_jobs=-1).mean().round(3), \"\\n\")\n",
    "print(\"Cross validation score on test dataset: \", cross_val_score(dtree, X_test,y_test, n_jobs=-1).mean().round(3), \"\\n\")"
   ]
  },
  {
   "cell_type": "code",
   "execution_count": 790,
   "metadata": {},
   "outputs": [
    {
     "name": "stdout",
     "output_type": "stream",
     "text": [
      "ROC score on train dataset:  1.0\n",
      "ROC score on test dataset:  0.998\n"
     ]
    }
   ],
   "source": [
    "dtree_model = dtree.fit(X_train, y_train)\n",
    "predicted = dtree_model.predict_proba(X_train)\n",
    "print(\"ROC score on train dataset: \", roc_auc_score(y_train, predicted[:,1]).round(3))\n",
    "predict = dtree_model.predict_proba(X_test)\n",
    "print(\"ROC score on test dataset: \", roc_auc_score(y_test, predict[:,1]).round(3))"
   ]
  },
  {
   "cell_type": "code",
   "execution_count": 791,
   "metadata": {},
   "outputs": [
    {
     "data": {
      "image/png": "[encoded data removed]",
      "text/plain": [
       "<Figure size 432x288 with 1 Axes>"
      ]
     },
     "metadata": {
      "needs_background": "light"
     },
     "output_type": "display_data"
    }
   ],
   "source": [
    "plot_roc_curve(dtree, X_test, y_test)\n",
    "plt.plot([0, 1], [0, 1],\n",
    "         label='baseline', linestyle='--')\n",
    "plt.legend();"
   ]
  },
  {
   "cell_type": "code",
   "execution_count": 792,
   "metadata": {},
   "outputs": [
    {
     "data": {
      "text/plain": [
       "0.9978396776075329"
      ]
     },
     "execution_count": 792,
     "metadata": {},
     "output_type": "execute_result"
    }
   ],
   "source": [
    "roc_auc_score(y_test, dtree.predict_proba(X_test)[:,1])"
   ]
  },
  {
   "cell_type": "code",
   "execution_count": 801,
   "metadata": {},
   "outputs": [
    {
     "name": "stdout",
     "output_type": "stream",
     "text": [
      "model accuracy on itself: 1.0\n",
      "model accuracy on test set: 0.9988723924074422\n"
     ]
    }
   ],
   "source": [
    "print('model accuracy on itself:', dtree.score(X_train, y_train))\n",
    "print('model accuracy on test set:', dtree.score(X_test, y_test))"
   ]
  },
  {
   "cell_type": "code",
   "execution_count": 793,
   "metadata": {},
   "outputs": [
    {
     "data": {
      "image/png": "[encoded data removed]",
      "text/plain": [
       "<Figure size 720x720 with 1 Axes>"
      ]
     },
     "metadata": {
      "needs_background": "light"
     },
     "output_type": "display_data"
    }
   ],
   "source": [
    "# Plot feature importance\n",
    "feature_importance = dtree.feature_importances_\n",
    "# make importances relative to max importance\n",
    "feature_importance = 100.0 * (feature_importance / feature_importance.max())\n",
    "sorted_idx = np.argsort(feature_importance)[-20:]\n",
    "pos = np.arange(sorted_idx.shape[0]) + .2\n",
    "plt.figure(figsize = [10,10])\n",
    "plt.barh(pos, feature_importance[sorted_idx], align='center')\n",
    "plt.yticks(pos, X.columns[sorted_idx])\n",
    "plt.xlabel('Relative Importance')\n",
    "plt.title('Variable Importance')\n",
    "plt.show()"
   ]
  },
  {
   "cell_type": "markdown",
   "metadata": {},
   "source": [
    "### The Data Science Process\n",
    "**5. Evaluation and Conceptual Understanding**<br>\n",
    "**6. Conclusion and Recommendations**"
   ]
  },
  {
   "cell_type": "markdown",
   "metadata": {},
   "source": [
    "**Evaluation of Loans Default Prediction Classification**<br>"
   ]
  },
  {
   "cell_type": "markdown",
   "metadata": {},
   "source": [
    "<img src=\"./datasets/figure6.jpg\" style=\"height: 100px\">\n",
    "Gradient Booasting Classifier, Random Forest Classifier and Decision Tree Classifier all achieve perfect/almost perfect score of 1 in the Model Accuracy Score AND ROC Score for both train and test dataset."
   ]
  },
  {
   "cell_type": "markdown",
   "metadata": {},
   "source": [
    "**Conclusions and Recommendations for Time Series Forecasting**<br>\n",
    "<img src=\"./datasets/figure7.jpg\" style=\"height: 400px\">"
   ]
  },
  {
   "cell_type": "markdown",
   "metadata": {},
   "source": [
    "1. The Random Forest Classifier has produced above features that best predict whether the loan will be defaulted.<br>\n",
    "It is worth noting that Monthly loan payment, loan amount, loan duration and balance has consistently appeared in all 3 models for Gradient Booasting, Random Forest and Decision Tree Classifier as the top 4 most important features."
   ]
  },
  {
   "cell_type": "markdown",
   "metadata": {},
   "source": [
    "2. Future Scope for enhancement may include adding in macroeconomic factors like economic growth, national stock market index, Central Bank benchmark interest rates and strength of national currency as these may also influence an individual's ability to service the loan."
   ]
  },
  {
   "cell_type": "markdown",
   "metadata": {},
   "source": [
    "**End of current notebook**"
   ]
  },
  {
   "cell_type": "code",
   "execution_count": null,
   "metadata": {},
   "outputs": [],
   "source": []
  }
 ],
 "metadata": {
  "kernelspec": {
   "display_name": "Python 3",
   "language": "python",
   "name": "python3"
  },
  "language_info": {
   "codemirror_mode": {
    "name": "ipython",
    "version": 3
   },
   "file_extension": ".py",
   "mimetype": "text/x-python",
   "name": "python",
   "nbconvert_exporter": "python",
   "pygments_lexer": "ipython3",
   "version": "3.7.7"
  }
 },
 "nbformat": 4,
 "nbformat_minor": 4
}
