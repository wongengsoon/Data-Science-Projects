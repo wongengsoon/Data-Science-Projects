{
 "cells": [
  {
   "cell_type": "markdown",
   "metadata": {},
   "source": [
    "### The Data Science Process\n",
    "\n",
    "**4. Preprocessing and Modeling**\n",
    "- Is text data successfully converted to a matrix representation?\n",
    "- Are methods such as stop words, stemming, and lemmatization explored?\n",
    "- Does the student properly split and/or sample the data for validation/training purposes?\n",
    "- Does the student test and evaluate a variety of models to identify a production algorithm (**AT MINIMUM:** Bayes and one other model)?\n",
    "- Does the student defend their choice of production model relevant to the data at hand and the problem?\n",
    "- Does the student explain how the model works and evaluate its performance successes/downfalls?"
   ]
  },
  {
   "cell_type": "code",
   "execution_count": 1,
   "metadata": {},
   "outputs": [],
   "source": [
    "import numpy as np\n",
    "import pandas as pd\n",
    "import matplotlib.pyplot as plt\n",
    "from nltk.corpus import stopwords\n",
    "from nltk.tokenize import sent_tokenize, word_tokenize\n",
    "from nltk.stem import WordNetLemmatizer\n",
    "\n",
    "from sklearn.metrics import confusion_matrix, plot_confusion_matrix, accuracy_score, plot_roc_curve, roc_auc_score, recall_score\n",
    "\n",
    "from sklearn.model_selection import train_test_split\n",
    "from sklearn.pipeline import Pipeline\n",
    "\n",
    "from sklearn.feature_extraction.text import CountVectorizer, TfidfVectorizer\n",
    "from sklearn.naive_bayes import MultinomialNB\n",
    "from sklearn.model_selection import GridSearchCV\n",
    "\n",
    "from sklearn.ensemble import RandomForestClassifier\n",
    "from sklearn.svm import SVC"
   ]
  },
  {
   "cell_type": "code",
   "execution_count": 2,
   "metadata": {},
   "outputs": [],
   "source": [
    "import_path = r'.\\datasets\\stocks_eda.csv'\n",
    "stocks_data = pd.read_csv(import_path)"
   ]
  },
  {
   "cell_type": "code",
   "execution_count": 3,
   "metadata": {},
   "outputs": [],
   "source": [
    "import_path = r'.\\datasets\\CryptoCurrency_eda.csv'\n",
    "CryptoCurrency_data = pd.read_csv(import_path)"
   ]
  },
  {
   "cell_type": "code",
   "execution_count": 4,
   "metadata": {},
   "outputs": [],
   "source": [
    "df_all_data = pd.concat([stocks_data, CryptoCurrency_data], join='inner', ignore_index=True)"
   ]
  },
  {
   "cell_type": "code",
   "execution_count": 5,
   "metadata": {},
   "outputs": [],
   "source": [
    "export_path = r'.\\datasets\\all_data.csv'\n",
    "df_all_data.to_csv(export_path)"
   ]
  },
  {
   "cell_type": "code",
   "execution_count": 6,
   "metadata": {},
   "outputs": [
    {
     "data": {
      "text/html": [
       "<div>\n",
       "<style scoped>\n",
       "    .dataframe tbody tr th:only-of-type {\n",
       "        vertical-align: middle;\n",
       "    }\n",
       "\n",
       "    .dataframe tbody tr th {\n",
       "        vertical-align: top;\n",
       "    }\n",
       "\n",
       "    .dataframe thead th {\n",
       "        text-align: right;\n",
       "    }\n",
       "</style>\n",
       "<table border=\"1\" class=\"dataframe\">\n",
       "  <thead>\n",
       "    <tr style=\"text-align: right;\">\n",
       "      <th></th>\n",
       "      <th>subreddit</th>\n",
       "      <th>title</th>\n",
       "      <th>selftext</th>\n",
       "      <th>created_utc</th>\n",
       "      <th>title_selftext</th>\n",
       "      <th>title_selftext_length</th>\n",
       "      <th>title_length</th>\n",
       "      <th>selftext_length</th>\n",
       "    </tr>\n",
       "  </thead>\n",
       "  <tbody>\n",
       "    <tr>\n",
       "      <th>0</th>\n",
       "      <td>stocks</td>\n",
       "      <td>What's your thought on ICLN for long term?</td>\n",
       "      <td>As the title says I'm really interested in you...</td>\n",
       "      <td>1622018105</td>\n",
       "      <td>What's your thought on ICLN for long term?As t...</td>\n",
       "      <td>658</td>\n",
       "      <td>42</td>\n",
       "      <td>616</td>\n",
       "    </tr>\n",
       "    <tr>\n",
       "      <th>1</th>\n",
       "      <td>stocks</td>\n",
       "      <td>Help investing 50K!!</td>\n",
       "      <td>NaN</td>\n",
       "      <td>1622018005</td>\n",
       "      <td>Help investing 50K!!</td>\n",
       "      <td>20</td>\n",
       "      <td>20</td>\n",
       "      <td>0</td>\n",
       "    </tr>\n",
       "    <tr>\n",
       "      <th>2</th>\n",
       "      <td>stocks</td>\n",
       "      <td>Investment into nuclear fusion?</td>\n",
       "      <td>I was doing some more research on fusion for t...</td>\n",
       "      <td>1622017975</td>\n",
       "      <td>Investment into nuclear fusion?I was doing som...</td>\n",
       "      <td>588</td>\n",
       "      <td>31</td>\n",
       "      <td>557</td>\n",
       "    </tr>\n",
       "    <tr>\n",
       "      <th>3</th>\n",
       "      <td>stocks</td>\n",
       "      <td>Twitter/Facebook ban in India</td>\n",
       "      <td>NaN</td>\n",
       "      <td>1622015329</td>\n",
       "      <td>Twitter/Facebook ban in India</td>\n",
       "      <td>29</td>\n",
       "      <td>29</td>\n",
       "      <td>0</td>\n",
       "    </tr>\n",
       "    <tr>\n",
       "      <th>4</th>\n",
       "      <td>stocks</td>\n",
       "      <td>Royal Helium // North American Helium Industry</td>\n",
       "      <td>NaN</td>\n",
       "      <td>1622011206</td>\n",
       "      <td>Royal Helium // North American Helium Industry</td>\n",
       "      <td>46</td>\n",
       "      <td>46</td>\n",
       "      <td>0</td>\n",
       "    </tr>\n",
       "  </tbody>\n",
       "</table>\n",
       "</div>"
      ],
      "text/plain": [
       "  subreddit                                           title  \\\n",
       "0    stocks      What's your thought on ICLN for long term?   \n",
       "1    stocks                            Help investing 50K!!   \n",
       "2    stocks                 Investment into nuclear fusion?   \n",
       "3    stocks                   Twitter/Facebook ban in India   \n",
       "4    stocks  Royal Helium // North American Helium Industry   \n",
       "\n",
       "                                            selftext  created_utc  \\\n",
       "0  As the title says I'm really interested in you...   1622018105   \n",
       "1                                                NaN   1622018005   \n",
       "2  I was doing some more research on fusion for t...   1622017975   \n",
       "3                                                NaN   1622015329   \n",
       "4                                                NaN   1622011206   \n",
       "\n",
       "                                      title_selftext  title_selftext_length  \\\n",
       "0  What's your thought on ICLN for long term?As t...                    658   \n",
       "1                               Help investing 50K!!                     20   \n",
       "2  Investment into nuclear fusion?I was doing som...                    588   \n",
       "3                      Twitter/Facebook ban in India                     29   \n",
       "4     Royal Helium // North American Helium Industry                     46   \n",
       "\n",
       "   title_length  selftext_length  \n",
       "0            42              616  \n",
       "1            20                0  \n",
       "2            31              557  \n",
       "3            29                0  \n",
       "4            46                0  "
      ]
     },
     "execution_count": 6,
     "metadata": {},
     "output_type": "execute_result"
    }
   ],
   "source": [
    "df_all_data.head()"
   ]
  },
  {
   "cell_type": "code",
   "execution_count": 7,
   "metadata": {},
   "outputs": [
    {
     "data": {
      "text/html": [
       "<div>\n",
       "<style scoped>\n",
       "    .dataframe tbody tr th:only-of-type {\n",
       "        vertical-align: middle;\n",
       "    }\n",
       "\n",
       "    .dataframe tbody tr th {\n",
       "        vertical-align: top;\n",
       "    }\n",
       "\n",
       "    .dataframe thead th {\n",
       "        text-align: right;\n",
       "    }\n",
       "</style>\n",
       "<table border=\"1\" class=\"dataframe\">\n",
       "  <thead>\n",
       "    <tr style=\"text-align: right;\">\n",
       "      <th></th>\n",
       "      <th>subreddit</th>\n",
       "      <th>title</th>\n",
       "      <th>selftext</th>\n",
       "      <th>created_utc</th>\n",
       "      <th>title_selftext</th>\n",
       "      <th>title_selftext_length</th>\n",
       "      <th>title_length</th>\n",
       "      <th>selftext_length</th>\n",
       "    </tr>\n",
       "  </thead>\n",
       "  <tbody>\n",
       "    <tr>\n",
       "      <th>5979</th>\n",
       "      <td>CryptoCurrency</td>\n",
       "      <td>EVERY POST IS PREACHY BULLSHIT!</td>\n",
       "      <td>NaN</td>\n",
       "      <td>1621875281</td>\n",
       "      <td>EVERY POST IS PREACHY BULLSHIT!</td>\n",
       "      <td>31</td>\n",
       "      <td>31</td>\n",
       "      <td>0</td>\n",
       "    </tr>\n",
       "    <tr>\n",
       "      <th>5980</th>\n",
       "      <td>CryptoCurrency</td>\n",
       "      <td>Doge army special forces reporting for duty</td>\n",
       "      <td>NaN</td>\n",
       "      <td>1621875270</td>\n",
       "      <td>Doge army special forces reporting for duty</td>\n",
       "      <td>43</td>\n",
       "      <td>43</td>\n",
       "      <td>0</td>\n",
       "    </tr>\n",
       "    <tr>\n",
       "      <th>5981</th>\n",
       "      <td>CryptoCurrency</td>\n",
       "      <td>Just Launched 4 hours ago !! 🌕 MOONCHIES 🌕 🚀 F...</td>\n",
       "      <td>NaN</td>\n",
       "      <td>1621875262</td>\n",
       "      <td>Just Launched 4 hours ago !! 🌕 MOONCHIES 🌕 🚀 F...</td>\n",
       "      <td>91</td>\n",
       "      <td>91</td>\n",
       "      <td>0</td>\n",
       "    </tr>\n",
       "    <tr>\n",
       "      <th>5982</th>\n",
       "      <td>CryptoCurrency</td>\n",
       "      <td>A $42,000 Bitcoin Ahead as Bulls Wreck Leverag...</td>\n",
       "      <td>NaN</td>\n",
       "      <td>1621875255</td>\n",
       "      <td>A $42,000 Bitcoin Ahead as Bulls Wreck Leverag...</td>\n",
       "      <td>66</td>\n",
       "      <td>66</td>\n",
       "      <td>0</td>\n",
       "    </tr>\n",
       "    <tr>\n",
       "      <th>5983</th>\n",
       "      <td>CryptoCurrency</td>\n",
       "      <td>How to trade crypto futures responsibly</td>\n",
       "      <td>NaN</td>\n",
       "      <td>1621875249</td>\n",
       "      <td>How to trade crypto futures responsibly</td>\n",
       "      <td>39</td>\n",
       "      <td>39</td>\n",
       "      <td>0</td>\n",
       "    </tr>\n",
       "  </tbody>\n",
       "</table>\n",
       "</div>"
      ],
      "text/plain": [
       "           subreddit                                              title  \\\n",
       "5979  CryptoCurrency                    EVERY POST IS PREACHY BULLSHIT!   \n",
       "5980  CryptoCurrency        Doge army special forces reporting for duty   \n",
       "5981  CryptoCurrency  Just Launched 4 hours ago !! 🌕 MOONCHIES 🌕 🚀 F...   \n",
       "5982  CryptoCurrency  A $42,000 Bitcoin Ahead as Bulls Wreck Leverag...   \n",
       "5983  CryptoCurrency            How to trade crypto futures responsibly   \n",
       "\n",
       "     selftext  created_utc                                     title_selftext  \\\n",
       "5979      NaN   1621875281                    EVERY POST IS PREACHY BULLSHIT!   \n",
       "5980      NaN   1621875270        Doge army special forces reporting for duty   \n",
       "5981      NaN   1621875262  Just Launched 4 hours ago !! 🌕 MOONCHIES 🌕 🚀 F...   \n",
       "5982      NaN   1621875255  A $42,000 Bitcoin Ahead as Bulls Wreck Leverag...   \n",
       "5983      NaN   1621875249            How to trade crypto futures responsibly   \n",
       "\n",
       "      title_selftext_length  title_length  selftext_length  \n",
       "5979                     31            31                0  \n",
       "5980                     43            43                0  \n",
       "5981                     91            91                0  \n",
       "5982                     66            66                0  \n",
       "5983                     39            39                0  "
      ]
     },
     "execution_count": 7,
     "metadata": {},
     "output_type": "execute_result"
    }
   ],
   "source": [
    "df_all_data.tail()"
   ]
  },
  {
   "cell_type": "code",
   "execution_count": 8,
   "metadata": {},
   "outputs": [
    {
     "data": {
      "text/plain": [
       "(5984, 8)"
      ]
     },
     "execution_count": 8,
     "metadata": {},
     "output_type": "execute_result"
    }
   ],
   "source": [
    "df_all_data.shape"
   ]
  },
  {
   "cell_type": "code",
   "execution_count": 9,
   "metadata": {},
   "outputs": [
    {
     "name": "stdout",
     "output_type": "stream",
     "text": [
      "['i', 'me', 'my', 'myself', 'we', 'our', 'ours', 'ourselves', 'you', \"you're\", \"you've\", \"you'll\", \"you'd\", 'your', 'yours', 'yourself', 'yourselves', 'he', 'him', 'his', 'himself', 'she', \"she's\", 'her', 'hers', 'herself', 'it', \"it's\", 'its', 'itself', 'they', 'them', 'their', 'theirs', 'themselves', 'what', 'which', 'who', 'whom', 'this', 'that', \"that'll\", 'these', 'those', 'am', 'is', 'are', 'was', 'were', 'be', 'been', 'being', 'have', 'has', 'had', 'having', 'do', 'does', 'did', 'doing', 'a', 'an', 'the', 'and', 'but', 'if', 'or', 'because', 'as', 'until', 'while', 'of', 'at', 'by', 'for', 'with', 'about', 'against', 'between', 'into', 'through', 'during', 'before', 'after', 'above', 'below', 'to', 'from', 'up', 'down', 'in', 'out', 'on', 'off', 'over', 'under', 'again', 'further', 'then', 'once', 'here', 'there', 'when', 'where', 'why', 'how', 'all', 'any', 'both', 'each', 'few', 'more', 'most', 'other', 'some', 'such', 'no', 'nor', 'not', 'only', 'own', 'same', 'so', 'than', 'too', 'very', 's', 't', 'can', 'will', 'just', 'don', \"don't\", 'should', \"should've\", 'now', 'd', 'll', 'm', 'o', 're', 've', 'y', 'ain', 'aren', \"aren't\", 'couldn', \"couldn't\", 'didn', \"didn't\", 'doesn', \"doesn't\", 'hadn', \"hadn't\", 'hasn', \"hasn't\", 'haven', \"haven't\", 'isn', \"isn't\", 'ma', 'mightn', \"mightn't\", 'mustn', \"mustn't\", 'needn', \"needn't\", 'shan', \"shan't\", 'shouldn', \"shouldn't\", 'wasn', \"wasn't\", 'weren', \"weren't\", 'won', \"won't\", 'wouldn', \"wouldn't\"]\n"
     ]
    }
   ],
   "source": [
    "# Print English stopwords.\n",
    "# Stop words will be removed in CountVectorizer OR TfidfVectorizer in Pipeline\n",
    "print(stopwords.words(\"english\"))"
   ]
  },
  {
   "cell_type": "code",
   "execution_count": 10,
   "metadata": {},
   "outputs": [
    {
     "data": {
      "text/plain": [
       "0       What's your thought on ICLN for long term?As t...\n",
       "1                                    Help investing 50K!!\n",
       "2       Investment into nuclear fusion?I was doing som...\n",
       "3                           Twitter/Facebook ban in India\n",
       "4          Royal Helium // North American Helium Industry\n",
       "                              ...                        \n",
       "5979                      EVERY POST IS PREACHY BULLSHIT!\n",
       "5980          Doge army special forces reporting for duty\n",
       "5981    Just Launched 4 hours ago !! 🌕 MOONCHIES 🌕 🚀 F...\n",
       "5982    A $42,000 Bitcoin Ahead as Bulls Wreck Leverag...\n",
       "5983              How to trade crypto futures responsibly\n",
       "Name: title_selftext, Length: 5984, dtype: object"
      ]
     },
     "execution_count": 10,
     "metadata": {},
     "output_type": "execute_result"
    }
   ],
   "source": [
    "df_all_data['title_selftext']"
   ]
  },
  {
   "cell_type": "code",
   "execution_count": 11,
   "metadata": {},
   "outputs": [
    {
     "data": {
      "text/plain": [
       "subreddit                object\n",
       "title                    object\n",
       "selftext                 object\n",
       "created_utc               int64\n",
       "title_selftext           object\n",
       "title_selftext_length     int64\n",
       "title_length              int64\n",
       "selftext_length           int64\n",
       "dtype: object"
      ]
     },
     "execution_count": 11,
     "metadata": {},
     "output_type": "execute_result"
    }
   ],
   "source": [
    "df_all_data.dtypes"
   ]
  },
  {
   "cell_type": "code",
   "execution_count": 12,
   "metadata": {},
   "outputs": [],
   "source": [
    "df_all_data['title_selftext'] = df_all_data['title_selftext'].astype(str)"
   ]
  },
  {
   "cell_type": "code",
   "execution_count": 13,
   "metadata": {},
   "outputs": [
    {
     "data": {
      "text/plain": [
       "subreddit                object\n",
       "title                    object\n",
       "selftext                 object\n",
       "created_utc               int64\n",
       "title_selftext           object\n",
       "title_selftext_length     int64\n",
       "title_length              int64\n",
       "selftext_length           int64\n",
       "dtype: object"
      ]
     },
     "execution_count": 13,
     "metadata": {},
     "output_type": "execute_result"
    }
   ],
   "source": [
    "df_all_data.dtypes"
   ]
  },
  {
   "cell_type": "code",
   "execution_count": 14,
   "metadata": {},
   "outputs": [],
   "source": [
    "df_all_data['tokenize'] = df_all_data['title_selftext'].apply(word_tokenize)"
   ]
  },
  {
   "cell_type": "code",
   "execution_count": 15,
   "metadata": {},
   "outputs": [
    {
     "data": {
      "text/plain": [
       "0       [What, 's, your, thought, on, ICLN, for, long,...\n",
       "1                            [Help, investing, 50K, !, !]\n",
       "2       [Investment, into, nuclear, fusion, ?, I, was,...\n",
       "3                      [Twitter/Facebook, ban, in, India]\n",
       "4       [Royal, Helium, //, North, American, Helium, I...\n",
       "                              ...                        \n",
       "5979              [EVERY, POST, IS, PREACHY, BULLSHIT, !]\n",
       "5980    [Doge, army, special, forces, reporting, for, ...\n",
       "5981    [Just, Launched, 4, hours, ago, !, !, 🌕, MOONC...\n",
       "5982    [A, $, 42,000, Bitcoin, Ahead, as, Bulls, Wrec...\n",
       "5983       [How, to, trade, crypto, futures, responsibly]\n",
       "Name: tokenize, Length: 5984, dtype: object"
      ]
     },
     "execution_count": 15,
     "metadata": {},
     "output_type": "execute_result"
    }
   ],
   "source": [
    "df_all_data['tokenize']"
   ]
  },
  {
   "cell_type": "code",
   "execution_count": 16,
   "metadata": {},
   "outputs": [],
   "source": [
    "# Instantiate lemmatizer.\n",
    "lemmatizer = WordNetLemmatizer()"
   ]
  },
  {
   "cell_type": "code",
   "execution_count": 17,
   "metadata": {},
   "outputs": [],
   "source": [
    "df_all_data['title_selftext_lemmatize'] = df_all_data['tokenize'].apply(lambda x: [lemmatizer.lemmatize(i) for i in x] )"
   ]
  },
  {
   "cell_type": "code",
   "execution_count": 18,
   "metadata": {},
   "outputs": [
    {
     "data": {
      "text/plain": [
       "0       [What, 's, your, thought, on, ICLN, for, long,...\n",
       "1                            [Help, investing, 50K, !, !]\n",
       "2       [Investment, into, nuclear, fusion, ?, I, wa, ...\n",
       "3                      [Twitter/Facebook, ban, in, India]\n",
       "4       [Royal, Helium, //, North, American, Helium, I...\n",
       "                              ...                        \n",
       "5979              [EVERY, POST, IS, PREACHY, BULLSHIT, !]\n",
       "5980    [Doge, army, special, force, reporting, for, d...\n",
       "5981    [Just, Launched, 4, hour, ago, !, !, 🌕, MOONCH...\n",
       "5982    [A, $, 42,000, Bitcoin, Ahead, a, Bulls, Wreck...\n",
       "5983        [How, to, trade, crypto, future, responsibly]\n",
       "Name: title_selftext_lemmatize, Length: 5984, dtype: object"
      ]
     },
     "execution_count": 18,
     "metadata": {},
     "output_type": "execute_result"
    }
   ],
   "source": [
    "df_all_data['title_selftext_lemmatize']"
   ]
  },
  {
   "cell_type": "code",
   "execution_count": 19,
   "metadata": {},
   "outputs": [],
   "source": [
    "df_all_data['title_selftext_lemmatize'] = df_all_data['title_selftext_lemmatize'].astype(str)"
   ]
  },
  {
   "cell_type": "code",
   "execution_count": 20,
   "metadata": {},
   "outputs": [],
   "source": [
    "df = df_all_data[['title_selftext_lemmatize', 'subreddit']]\n",
    "\n",
    "X = df['title_selftext_lemmatize'].fillna(' ')\n",
    "y = df['subreddit'].values"
   ]
  },
  {
   "cell_type": "markdown",
   "metadata": {},
   "source": [
    "#### Baseline Score: \n",
    "As the number of posts for CryptoCurrency and Stocks are approximately 50% each, the baseline model for a random basis classification, is 50% accuracy for classifying a post correctly."
   ]
  },
  {
   "cell_type": "code",
   "execution_count": 21,
   "metadata": {},
   "outputs": [
    {
     "data": {
      "text/plain": [
       "CryptoCurrency    0.500836\n",
       "stocks            0.499164\n",
       "Name: subreddit, dtype: float64"
      ]
     },
     "execution_count": 21,
     "metadata": {},
     "output_type": "execute_result"
    }
   ],
   "source": [
    "df['subreddit'].value_counts(normalize=True)"
   ]
  },
  {
   "cell_type": "code",
   "execution_count": 22,
   "metadata": {},
   "outputs": [],
   "source": [
    "X_train, X_test, y_train, y_test = train_test_split(\n",
    "    X, y, random_state=42, stratify=y)"
   ]
  },
  {
   "cell_type": "markdown",
   "metadata": {},
   "source": [
    "#### First Model - MultinomialNB"
   ]
  },
  {
   "cell_type": "markdown",
   "metadata": {},
   "source": [
    "Multinomial Naive Bayes classifier is predominantly used in document classification problem, or in our case, posts classification problem, to determine if a document or posts belongs to the category of technology, sports, politics, etc. The features that are used in this classifier are words and the frequency of their occurrence in the document.\n",
    "\n",
    "If its assumption of the independence of features holds true, it can perform better than other models and requires much less training data. \n",
    "\n",
    "However, Naive Bayes assumes that all predictors (or features) are independent, rarely happening in real life. This limits the applicability of this algorithm in real-world use cases."
   ]
  },
  {
   "cell_type": "code",
   "execution_count": 23,
   "metadata": {},
   "outputs": [
    {
     "data": {
      "text/plain": [
       "GridSearchCV(cv=5,\n",
       "             estimator=Pipeline(steps=[('vec', None),\n",
       "                                       ('model', MultinomialNB())]),\n",
       "             n_jobs=-1,\n",
       "             param_grid={'vec': [CountVectorizer(),\n",
       "                                 TfidfVectorizer(max_df=0.65, max_features=6000,\n",
       "                                                 min_df=2,\n",
       "                                                 stop_words='english')],\n",
       "                         'vec__max_df': [0.65, 0.7, 0.75, 0.8, 0.85, 0.9, 0.95],\n",
       "                         'vec__max_features': [1000, 2000, 3000, 4000, 5000,\n",
       "                                               6000],\n",
       "                         'vec__min_df': [1, 2, 4, 6],\n",
       "                         'vec__ngram_range': [(1, 1), (1, 2)],\n",
       "                         'vec__stop_words': [None, 'english']})"
      ]
     },
     "execution_count": 23,
     "metadata": {},
     "output_type": "execute_result"
    }
   ],
   "source": [
    "pipe = Pipeline([\n",
    "    ('vec', None),\n",
    "    ('model', MultinomialNB())\n",
    "])\n",
    "params = {\n",
    "    'vec': [CountVectorizer(), TfidfVectorizer()],\n",
    "    'vec__stop_words': [None, 'english'],\n",
    "    'vec__ngram_range': [(1, 1), (1, 2)],\n",
    "    'vec__max_df': [.65, .7, .75, .80, .85, .9, .95],\n",
    "    'vec__min_df': [1, 2, 4, 6],\n",
    "    'vec__max_features': [1000, 2000, 3000, 4000,5000, 6000],\n",
    "}\n",
    "gs = GridSearchCV(pipe, param_grid=params, cv=5, n_jobs=-1)\n",
    "gs.fit(X_train, y_train)"
   ]
  },
  {
   "cell_type": "code",
   "execution_count": 24,
   "metadata": {},
   "outputs": [
    {
     "name": "stdout",
     "output_type": "stream",
     "text": [
      "best score: 0.8750045313132366\n"
     ]
    }
   ],
   "source": [
    "print('best score:', gs.best_score_)"
   ]
  },
  {
   "cell_type": "code",
   "execution_count": 25,
   "metadata": {},
   "outputs": [
    {
     "name": "stdout",
     "output_type": "stream",
     "text": [
      "best params: {'vec': TfidfVectorizer(max_df=0.65, max_features=6000, min_df=2, stop_words='english'), 'vec__max_df': 0.65, 'vec__max_features': 6000, 'vec__min_df': 2, 'vec__ngram_range': (1, 1), 'vec__stop_words': 'english'}\n"
     ]
    }
   ],
   "source": [
    "print('best params:', gs.best_params_)"
   ]
  },
  {
   "cell_type": "code",
   "execution_count": 26,
   "metadata": {},
   "outputs": [
    {
     "name": "stdout",
     "output_type": "stream",
     "text": [
      "TfidfVectorizer:\n",
      "stock     150.838698\n",
      "crypto    121.761522\n",
      "market     82.585642\n",
      "buy        78.450161\n",
      "new        72.488827\n",
      "dtype: float64\n",
      "\n"
     ]
    }
   ],
   "source": [
    "tvec = TfidfVectorizer(stop_words='english', ngram_range=(\n",
    "    1, 1), max_df=0.65, min_df=2, max_features=6000)\n",
    "X_train_tvec = tvec.fit_transform(X_train)\n",
    "X_train_tvec = pd.DataFrame(X_train_tvec.toarray(),\n",
    "                            columns=tvec.get_feature_names())\n",
    "X_test_tvec = tvec.transform(X_test)\n",
    "X_test_tvec = pd.DataFrame(X_test_tvec.toarray(),\n",
    "                           columns=tvec.get_feature_names())\n",
    "print('TfidfVectorizer:')\n",
    "print(X_train_tvec.sum().sort_values(ascending=False)[:5])\n",
    "print()"
   ]
  },
  {
   "cell_type": "code",
   "execution_count": 27,
   "metadata": {},
   "outputs": [],
   "source": [
    "nb = MultinomialNB()"
   ]
  },
  {
   "cell_type": "code",
   "execution_count": 28,
   "metadata": {},
   "outputs": [
    {
     "data": {
      "text/plain": [
       "MultinomialNB()"
      ]
     },
     "execution_count": 28,
     "metadata": {},
     "output_type": "execute_result"
    }
   ],
   "source": [
    "nb.fit(X_train_tvec, y_train)"
   ]
  },
  {
   "cell_type": "code",
   "execution_count": 29,
   "metadata": {},
   "outputs": [],
   "source": [
    "y_pred = nb.predict(X_test_tvec)"
   ]
  },
  {
   "cell_type": "code",
   "execution_count": 30,
   "metadata": {},
   "outputs": [
    {
     "name": "stdout",
     "output_type": "stream",
     "text": [
      "model accuracy on itself: 0.9344919786096256\n",
      "model accuracy on test set: 0.8810160427807486\n"
     ]
    }
   ],
   "source": [
    "print('model accuracy on itself:', nb.score(X_train_tvec, y_train))\n",
    "print('model accuracy on test set:', nb.score(X_test_tvec, y_test))"
   ]
  },
  {
   "cell_type": "code",
   "execution_count": 31,
   "metadata": {},
   "outputs": [
    {
     "data": {
      "image/png": "[encoded data removed]",
      "text/plain": [
       "<Figure size 432x288 with 1 Axes>"
      ]
     },
     "metadata": {
      "needs_background": "light"
     },
     "output_type": "display_data"
    }
   ],
   "source": [
    "plot_roc_curve(nb, X_test_tvec, y_test)\n",
    "plt.plot([0, 1], [0, 1],\n",
    "         label='baseline', linestyle='--')\n",
    "plt.legend();"
   ]
  },
  {
   "cell_type": "code",
   "execution_count": 32,
   "metadata": {},
   "outputs": [
    {
     "data": {
      "text/plain": [
       "0.9456312119863521"
      ]
     },
     "execution_count": 32,
     "metadata": {},
     "output_type": "execute_result"
    }
   ],
   "source": [
    "roc_auc_score(y_test, nb.predict_proba(X_test_tvec)[:,1])"
   ]
  },
  {
   "cell_type": "markdown",
   "metadata": {},
   "source": [
    "AUC for a perfect classifier\n",
    "An ideal classifier does not make any prediction errors. \n",
    "This means that the classifier can perfectly separate the two classes such that the model achieves a true positive rate of 100% before producing any false positives. \n",
    "Thus, the AUC of such a classifier is 1\n",
    "\n",
    "AUC of a random classifier\n",
    "A random classifier will have an AUC close to 0.5. \n",
    "This is easy to understand: for every correct prediction, the next prediction will be incorrect.\n",
    "    \n",
    "AUC of MultinomialNB of 0.93 shows that it is a good classifier."
   ]
  },
  {
   "cell_type": "code",
   "execution_count": 33,
   "metadata": {},
   "outputs": [
    {
     "data": {
      "text/plain": [
       "array([[675,  74],\n",
       "       [104, 643]], dtype=int64)"
      ]
     },
     "execution_count": 33,
     "metadata": {},
     "output_type": "execute_result"
    }
   ],
   "source": [
    "confusion_matrix(y_test, # True values.\n",
    "                 y_pred)  # Predicted values."
   ]
  },
  {
   "cell_type": "code",
   "execution_count": 34,
   "metadata": {},
   "outputs": [
    {
     "data": {
      "image/png": "[encoded data removed]",
      "text/plain": [
       "<Figure size 432x288 with 2 Axes>"
      ]
     },
     "metadata": {
      "needs_background": "light"
     },
     "output_type": "display_data"
    }
   ],
   "source": [
    "plot_confusion_matrix(nb, X_test_tvec, y_test, cmap='Blues', \n",
    "                      values_format='d', display_labels=['CryptoCurrency', 'stocks']);"
   ]
  },
  {
   "cell_type": "code",
   "execution_count": 35,
   "metadata": {},
   "outputs": [
    {
     "data": {
      "text/plain": [
       "0.9012016021361816"
      ]
     },
     "execution_count": 35,
     "metadata": {},
     "output_type": "execute_result"
    }
   ],
   "source": [
    "recall = recall_score(y_test, y_pred, pos_label='CryptoCurrency')\n",
    "recall"
   ]
  },
  {
   "cell_type": "code",
   "execution_count": 36,
   "metadata": {},
   "outputs": [],
   "source": [
    "df_all_data['subreddit'] = df_all_data['subreddit'].astype(str)"
   ]
  },
  {
   "cell_type": "markdown",
   "metadata": {},
   "source": [
    "#### Second model - Random Forest Classifier"
   ]
  },
  {
   "cell_type": "markdown",
   "metadata": {},
   "source": [
    "Random Forest is an ensemble method that combines multiple decision trees to classify, so the result of random forest is usually better than decision trees.\n",
    "A forest is comprised of trees. The more trees it has, the more robust a forest is. Random forests creates decision trees on randomly selected data samples, gets prediction from each tree and selects the best solution by means of voting. \n",
    "\n",
    "Random Forests Classifier has excellent predictive powers. However, it has overfitting risks."
   ]
  },
  {
   "cell_type": "code",
   "execution_count": 37,
   "metadata": {},
   "outputs": [
    {
     "data": {
      "text/plain": [
       "GridSearchCV(cv=5,\n",
       "             estimator=Pipeline(steps=[('vec', None),\n",
       "                                       ('rf', RandomForestClassifier())]),\n",
       "             n_jobs=-1,\n",
       "             param_grid={'rf__max_depth': [None, 1, 2, 3, 4, 5],\n",
       "                         'rf__n_estimators': [100, 150, 200],\n",
       "                         'vec': [CountVectorizer(max_df=0.9, max_features=3000,\n",
       "                                                 min_df=4),\n",
       "                                 TfidfVectorizer()],\n",
       "                         'vec__max_df': [0.85, 0.9, 0.95],\n",
       "                         'vec__max_features': [3000, 4000, 5000],\n",
       "                         'vec__min_df': [1, 2, 4, 6],\n",
       "                         'vec__ngram_range': [(1, 1), (1, 2)],\n",
       "                         'vec__stop_words': [None, 'english']})"
      ]
     },
     "execution_count": 37,
     "metadata": {},
     "output_type": "execute_result"
    }
   ],
   "source": [
    "pipe = Pipeline([\n",
    "    ('vec', None),\n",
    "    ('rf', RandomForestClassifier())\n",
    "])\n",
    "params = {\n",
    "    'vec': [CountVectorizer(), TfidfVectorizer()],\n",
    "    'vec__stop_words': [None, 'english'],\n",
    "    'vec__ngram_range': [(1, 1), (1, 2)],\n",
    "    'vec__max_df': [.85, .9, .95],\n",
    "    'vec__min_df': [1, 2, 4, 6],\n",
    "    'vec__max_features': [3000,4000,5000],\n",
    "    'rf__n_estimators': [100, 150, 200],\n",
    "    'rf__max_depth': [None, 1, 2, 3, 4, 5],    \n",
    "}\n",
    "gs = GridSearchCV(pipe, param_grid=params, cv=5, n_jobs=-1)\n",
    "gs.fit(X_train, y_train)"
   ]
  },
  {
   "cell_type": "code",
   "execution_count": 38,
   "metadata": {},
   "outputs": [
    {
     "name": "stdout",
     "output_type": "stream",
     "text": [
      "best score: 0.8607409504088114\n"
     ]
    }
   ],
   "source": [
    "print('best score:', gs.best_score_)"
   ]
  },
  {
   "cell_type": "code",
   "execution_count": 39,
   "metadata": {},
   "outputs": [
    {
     "name": "stdout",
     "output_type": "stream",
     "text": [
      "best params: {'rf__max_depth': None, 'rf__n_estimators': 150, 'vec': CountVectorizer(max_df=0.9, max_features=3000, min_df=4), 'vec__max_df': 0.9, 'vec__max_features': 3000, 'vec__min_df': 4, 'vec__ngram_range': (1, 1), 'vec__stop_words': None}\n"
     ]
    }
   ],
   "source": [
    "print('best params:', gs.best_params_)"
   ]
  },
  {
   "cell_type": "code",
   "execution_count": 40,
   "metadata": {},
   "outputs": [
    {
     "name": "stdout",
     "output_type": "stream",
     "text": [
      "TfidfVectorizer:\n",
      "the    303.039090\n",
      "to     275.674449\n",
      "and    207.671864\n",
      "is     173.301306\n",
      "of     169.081122\n",
      "dtype: float64\n",
      "\n"
     ]
    }
   ],
   "source": [
    "tvec = TfidfVectorizer(stop_words=None, ngram_range=(\n",
    "    1, 1), max_df=0.95, min_df=4, max_features=3000)\n",
    "X_train_tvec = tvec.fit_transform(X_train)\n",
    "X_train_tvec = pd.DataFrame(X_train_tvec.toarray(),\n",
    "                            columns=tvec.get_feature_names())\n",
    "X_test_tvec = tvec.transform(X_test)\n",
    "X_test_tvec = pd.DataFrame(X_test_tvec.toarray(),\n",
    "                           columns=tvec.get_feature_names())\n",
    "print('TfidfVectorizer:')\n",
    "print(X_train_tvec.sum().sort_values(ascending=False)[:5])\n",
    "print()"
   ]
  },
  {
   "cell_type": "code",
   "execution_count": 41,
   "metadata": {},
   "outputs": [],
   "source": [
    "rf = RandomForestClassifier(n_estimators=200, max_depth=None)"
   ]
  },
  {
   "cell_type": "code",
   "execution_count": 42,
   "metadata": {},
   "outputs": [
    {
     "data": {
      "text/plain": [
       "RandomForestClassifier(n_estimators=200)"
      ]
     },
     "execution_count": 42,
     "metadata": {},
     "output_type": "execute_result"
    }
   ],
   "source": [
    "rf.fit(X_train_tvec, y_train)"
   ]
  },
  {
   "cell_type": "code",
   "execution_count": 43,
   "metadata": {},
   "outputs": [],
   "source": [
    "y_pred = rf.predict(X_test_tvec)"
   ]
  },
  {
   "cell_type": "code",
   "execution_count": 44,
   "metadata": {},
   "outputs": [
    {
     "name": "stdout",
     "output_type": "stream",
     "text": [
      "model accuracy on itself: 0.9919786096256684\n",
      "model accuracy on test set: 0.8669786096256684\n"
     ]
    }
   ],
   "source": [
    "print('model accuracy on itself:', rf.score(X_train_tvec, y_train))\n",
    "print('model accuracy on test set:', rf.score(X_test_tvec, y_test))"
   ]
  },
  {
   "cell_type": "code",
   "execution_count": 45,
   "metadata": {},
   "outputs": [
    {
     "data": {
      "image/png": "[encoded data removed]",
      "text/plain": [
       "<Figure size 432x288 with 1 Axes>"
      ]
     },
     "metadata": {
      "needs_background": "light"
     },
     "output_type": "display_data"
    }
   ],
   "source": [
    "plot_roc_curve(rf, X_test_tvec, y_test)\n",
    "plt.plot([0, 1], [0, 1],\n",
    "         label='baseline', linestyle='--')\n",
    "plt.legend();"
   ]
  },
  {
   "cell_type": "markdown",
   "metadata": {},
   "source": [
    "AUC of RandomForestClassifier of 0.93 shows that it is a good classifier."
   ]
  },
  {
   "cell_type": "code",
   "execution_count": 46,
   "metadata": {},
   "outputs": [
    {
     "data": {
      "text/plain": [
       "0.9265866313496086"
      ]
     },
     "execution_count": 46,
     "metadata": {},
     "output_type": "execute_result"
    }
   ],
   "source": [
    "roc_auc_score(y_test, rf.predict_proba(X_test_tvec)[:,1])"
   ]
  },
  {
   "cell_type": "code",
   "execution_count": 47,
   "metadata": {},
   "outputs": [
    {
     "data": {
      "text/plain": [
       "array([[664,  85],\n",
       "       [114, 633]], dtype=int64)"
      ]
     },
     "execution_count": 47,
     "metadata": {},
     "output_type": "execute_result"
    }
   ],
   "source": [
    "confusion_matrix(y_test, # True values.\n",
    "                 y_pred)  # Predicted values."
   ]
  },
  {
   "cell_type": "code",
   "execution_count": 48,
   "metadata": {},
   "outputs": [
    {
     "data": {
      "image/png": "[encoded data removed]",
      "text/plain": [
       "<Figure size 432x288 with 2 Axes>"
      ]
     },
     "metadata": {
      "needs_background": "light"
     },
     "output_type": "display_data"
    }
   ],
   "source": [
    "plot_confusion_matrix(rf, X_test_tvec, y_test, cmap='Blues', \n",
    "                      values_format='d', display_labels=['CryptoCurrency', 'stocks']);"
   ]
  },
  {
   "cell_type": "code",
   "execution_count": 49,
   "metadata": {},
   "outputs": [
    {
     "data": {
      "text/plain": [
       "0.8865153538050734"
      ]
     },
     "execution_count": 49,
     "metadata": {},
     "output_type": "execute_result"
    }
   ],
   "source": [
    "recall = recall_score(y_test, y_pred, pos_label='CryptoCurrency')\n",
    "recall"
   ]
  },
  {
   "cell_type": "markdown",
   "metadata": {},
   "source": [
    "#### Third Model - Support Vector Classifier"
   ]
  },
  {
   "cell_type": "markdown",
   "metadata": {},
   "source": [
    "SVMs are based on the idea of finding a hyperplane that best divides a dataset into two classes or more.\n",
    "A hyperplane as a line that linearly (or non-linearly) separates and classifies a set of data.\n",
    "\n",
    "Support Vector Classifier is highly accurate and Works well on smaller cleaner datasets. However, it is less effective on noisier datasets with overlapping classes."
   ]
  },
  {
   "cell_type": "code",
   "execution_count": 50,
   "metadata": {},
   "outputs": [
    {
     "data": {
      "text/plain": [
       "GridSearchCV(cv=5,\n",
       "             estimator=Pipeline(steps=[('vec', None),\n",
       "                                       ('svc', SVC(probability=True))]),\n",
       "             n_jobs=-1,\n",
       "             param_grid={'svc__kernel': ['linear', 'rbf', 'poly', 'sigmoid'],\n",
       "                         'vec': [CountVectorizer(),\n",
       "                                 TfidfVectorizer(max_df=0.85, max_features=3000,\n",
       "                                                 min_df=6)],\n",
       "                         'vec__max_df': [0.85, 0.9, 0.95],\n",
       "                         'vec__max_features': [1000, 2000, 3000],\n",
       "                         'vec__min_df': [2, 4, 6],\n",
       "                         'vec__ngram_range': [(1, 1), (1, 2)],\n",
       "                         'vec__stop_words': [None, 'english']})"
      ]
     },
     "execution_count": 50,
     "metadata": {},
     "output_type": "execute_result"
    }
   ],
   "source": [
    "pipe = Pipeline([\n",
    "    ('vec', None),\n",
    "    ('svc', SVC(probability=True))\n",
    "])\n",
    "params = {\n",
    "    'vec': [CountVectorizer(), TfidfVectorizer()],\n",
    "    'vec__stop_words': [None, 'english'],\n",
    "    'vec__ngram_range': [(1, 1), (1, 2)],\n",
    "    'vec__max_df': [.85, .9, .95],\n",
    "    'vec__min_df': [2, 4, 6],\n",
    "    'vec__max_features': [1000, 2000, 3000],\n",
    "    'svc__kernel': ['linear', 'rbf', 'poly', 'sigmoid'],\n",
    "}\n",
    "gs = GridSearchCV(pipe, param_grid=params, cv=5, n_jobs=-1)\n",
    "gs.fit(X_train, y_train)"
   ]
  },
  {
   "cell_type": "code",
   "execution_count": 51,
   "metadata": {},
   "outputs": [
    {
     "name": "stdout",
     "output_type": "stream",
     "text": [
      "best score: 0.8718862429330135\n"
     ]
    }
   ],
   "source": [
    "print('best score:', gs.best_score_)"
   ]
  },
  {
   "cell_type": "code",
   "execution_count": 52,
   "metadata": {},
   "outputs": [
    {
     "name": "stdout",
     "output_type": "stream",
     "text": [
      "best params: {'svc__kernel': 'rbf', 'vec': TfidfVectorizer(max_df=0.85, max_features=3000, min_df=6), 'vec__max_df': 0.85, 'vec__max_features': 3000, 'vec__min_df': 6, 'vec__ngram_range': (1, 1), 'vec__stop_words': None}\n"
     ]
    }
   ],
   "source": [
    "print('best params:', gs.best_params_)"
   ]
  },
  {
   "cell_type": "code",
   "execution_count": 53,
   "metadata": {},
   "outputs": [
    {
     "name": "stdout",
     "output_type": "stream",
     "text": [
      "TfidfVectorizer:\n",
      "the    304.055001\n",
      "to     276.401796\n",
      "and    208.541708\n",
      "is     173.849396\n",
      "of     169.310078\n",
      "dtype: float64\n",
      "\n"
     ]
    }
   ],
   "source": [
    "tvec = TfidfVectorizer(stop_words=None, ngram_range=(\n",
    "    1, 1), max_df=0.85, min_df=6, max_features=3000)\n",
    "X_train_tvec = tvec.fit_transform(X_train)\n",
    "X_train_tvec = pd.DataFrame(X_train_tvec.toarray(),\n",
    "                            columns=tvec.get_feature_names())\n",
    "X_test_tvec = tvec.transform(X_test)\n",
    "X_test_tvec = pd.DataFrame(X_test_tvec.toarray(),\n",
    "                           columns=tvec.get_feature_names())\n",
    "print('TfidfVectorizer:')\n",
    "print(X_train_tvec.sum().sort_values(ascending=False)[:5])\n",
    "print()"
   ]
  },
  {
   "cell_type": "code",
   "execution_count": 54,
   "metadata": {},
   "outputs": [],
   "source": [
    "svc = SVC(gamma=\"scale\", probability=True, kernel='rbf')"
   ]
  },
  {
   "cell_type": "code",
   "execution_count": 55,
   "metadata": {},
   "outputs": [
    {
     "data": {
      "text/plain": [
       "SVC(probability=True)"
      ]
     },
     "execution_count": 55,
     "metadata": {},
     "output_type": "execute_result"
    }
   ],
   "source": [
    "svc.fit(X_train_tvec, y_train)"
   ]
  },
  {
   "cell_type": "code",
   "execution_count": 56,
   "metadata": {},
   "outputs": [],
   "source": [
    "y_pred = svc.predict(X_test_tvec)"
   ]
  },
  {
   "cell_type": "code",
   "execution_count": 57,
   "metadata": {},
   "outputs": [
    {
     "name": "stdout",
     "output_type": "stream",
     "text": [
      "model accuracy on itself: 0.9783868092691622\n",
      "model accuracy on test set: 0.8897058823529411\n"
     ]
    }
   ],
   "source": [
    "print('model accuracy on itself:', svc.score(X_train_tvec, y_train))\n",
    "print('model accuracy on test set:', svc.score(X_test_tvec, y_test))"
   ]
  },
  {
   "cell_type": "code",
   "execution_count": 58,
   "metadata": {},
   "outputs": [
    {
     "data": {
      "image/png": "[encoded data removed]",
      "text/plain": [
       "<Figure size 432x288 with 1 Axes>"
      ]
     },
     "metadata": {
      "needs_background": "light"
     },
     "output_type": "display_data"
    }
   ],
   "source": [
    "plot_roc_curve(svc, X_test_tvec, y_test)\n",
    "plt.plot([0, 1], [0, 1],\n",
    "         label='baseline', linestyle='--')\n",
    "plt.legend();"
   ]
  },
  {
   "cell_type": "code",
   "execution_count": 59,
   "metadata": {},
   "outputs": [
    {
     "data": {
      "text/plain": [
       "0.9406240895938003"
      ]
     },
     "execution_count": 59,
     "metadata": {},
     "output_type": "execute_result"
    }
   ],
   "source": [
    "roc_auc_score(y_test, svc.predict_proba(X_test_tvec)[:,1])"
   ]
  },
  {
   "cell_type": "markdown",
   "metadata": {},
   "source": [
    "AUC of SVC of 0.94 shows that it is a good classifier."
   ]
  },
  {
   "cell_type": "code",
   "execution_count": 60,
   "metadata": {},
   "outputs": [
    {
     "data": {
      "text/plain": [
       "array([[661,  88],\n",
       "       [ 77, 670]], dtype=int64)"
      ]
     },
     "execution_count": 60,
     "metadata": {},
     "output_type": "execute_result"
    }
   ],
   "source": [
    "confusion_matrix(y_test, # True values.\n",
    "                 y_pred)  # Predicted values."
   ]
  },
  {
   "cell_type": "code",
   "execution_count": 61,
   "metadata": {},
   "outputs": [
    {
     "data": {
      "image/png": "[encoded data removed]",
      "text/plain": [
       "<Figure size 432x288 with 2 Axes>"
      ]
     },
     "metadata": {
      "needs_background": "light"
     },
     "output_type": "display_data"
    }
   ],
   "source": [
    "plot_confusion_matrix(svc, X_test_tvec, y_test, cmap='Blues', \n",
    "                      values_format='d', display_labels=['CryptoCurrency', 'stocks']);"
   ]
  },
  {
   "cell_type": "code",
   "execution_count": 62,
   "metadata": {},
   "outputs": [
    {
     "data": {
      "text/plain": [
       "0.8825100133511349"
      ]
     },
     "execution_count": 62,
     "metadata": {},
     "output_type": "execute_result"
    }
   ],
   "source": [
    "recall = recall_score(y_test, y_pred, pos_label='CryptoCurrency')\n",
    "recall"
   ]
  },
  {
   "cell_type": "markdown",
   "metadata": {},
   "source": [
    "### The Data Science Process\n",
    "\n",
    "**5. Evaluation and Conceptual Understanding**\n",
    "- Does the student accurately identify and explain the baseline score?\n",
    "- Does the student select and use metrics relevant to the problem objective?\n",
    "- Does the student interpret the results of their model for purposes of inference?\n",
    "- Is domain knowledge demonstrated when interpreting results?\n",
    "- Does the student provide appropriate interpretation with regards to descriptive and inferential statistics?"
   ]
  },
  {
   "cell_type": "markdown",
   "metadata": {},
   "source": [
    "#### Summary of Scores:\n",
    "\n",
    "|Model - MultinomialNB|Train|Test|\n",
    "|---|---|---|\n",
    "Score|0.9345|0.8810\t\n",
    "roc_auc_score|NA|0.9456\n",
    "recall|NA|0.9012\n",
    "\n",
    "|Model - SupportVectorClassifier|Train|Test|\n",
    "|---|---|---|\n",
    "Score|0.9784|0.8897\t\n",
    "roc_auc_score|NA|0.9406\n",
    "recall|NA|0.8825\n",
    "\n",
    "|Model - RandomForestClassifier|Train|Test|\n",
    "|---|---|---|\n",
    "Score|0.9920|0.8656\t\n",
    "roc_auc_score|NA|0.9288\n",
    "recall|NA|0.8852"
   ]
  },
  {
   "cell_type": "markdown",
   "metadata": {},
   "source": [
    "#### Baseline Score: \n",
    "As the number of posts for CryptoCurrency and Stocks are approximately 50% each, the baseline model for a random basis classification, is 50% accuracy for classifying a post correctly."
   ]
  },
  {
   "cell_type": "markdown",
   "metadata": {},
   "source": [
    "We have established that our objective is to correctly classify whether a posting Belongs to Crypto subreddit OR Belongs to Other subreddit.\n",
    "This is a binary classification problem. \n",
    "As such, we have decided to use Sensitivity score (or recall), also known as True Positive Rate.\n",
    "To re-word it, among all the posts, how many CryptoCurrency posts did we classify it correctly?"
   ]
  },
  {
   "cell_type": "markdown",
   "metadata": {},
   "source": [
    "Recall is True Positives (TP) / All Positives (TP + False Negative (FN)- Actually Crypto but classified as stocks)"
   ]
  },
  {
   "cell_type": "markdown",
   "metadata": {},
   "source": [
    "From the model with the highest recall score - Multinomial Naive Bayes Classifier, we can see the highest recall score is 0.9012. \n",
    "\n",
    "Recall tells us, what fraction of all the posts that are originally CryptoCurrency are classified as CryptoCurrency. We can see that 90.12% of CryptoCurrency posts are correctly classified as CryptoCurrency.\n",
    "\n",
    "The Multinomial Naive Bayes Classifier beats the baseline score of 50% by a big margin and is therefore a good model to be used in the classification."
   ]
  },
  {
   "cell_type": "code",
   "execution_count": null,
   "metadata": {},
   "outputs": [],
   "source": []
  },
  {
   "cell_type": "markdown",
   "metadata": {},
   "source": [
    "### The Data Science Process\n",
    "\n",
    "**6. Conclusion and Recommendations**\n",
    "- Does the student provide appropriate context to connect individual steps back to the overall project?\n",
    "- Is it clear how the final recommendations were reached?\n",
    "- Are the conclusions/recommendations clearly stated?\n",
    "- Does the conclusion answer the original problem statement?\n",
    "- Does the student address how findings of this research can be applied for the benefit of stakeholders?\n",
    "- Are future steps to move the project forward identified?"
   ]
  },
  {
   "cell_type": "markdown",
   "metadata": {},
   "source": [
    "#### Conclusion:\n",
    "    \n",
    "Web Scraping subreddits:\n",
    "CryptoCurrency, stocks\n",
    "\n",
    "Data Exploration / Cleaning:\n",
    "Subreddit, Title+Selftext\n",
    "\n",
    "Natural Language Processing:\n",
    "Stopwords, Tokenize, Lemmatize\n",
    "\n",
    "Modelling:\n",
    "Multinomial Naive Bayes Classifier, RandomForestClassifier, SupportVectorClassifier\n",
    "\n",
    "Evaluation:\n",
    "Multinomial Naive Bayes Classifier using Sensitivity(Recall)"
   ]
  },
  {
   "cell_type": "markdown",
   "metadata": {},
   "source": [
    "#### Recommendations:\n",
    "\n",
    "Background:\n",
    "We have indicated in the Problem Statement that our objective is to use the model to look for postings in other social media channels (e.g. Facebook, Youtube) to target our advertising of crypto products in these channels so that we can expand the market penetration of our crypto products to potential prospects.\n",
    "\n",
    "Therefore, our recommendation is:\n",
    "\n",
    "1. Advertise to posts that our model tagged as interested in CryptoCurrency.\n",
    "\n",
    "Spend the advertising dollars on True Positive-675 posts (True Crypto and classified correctly as Crypto) + False Negatives-74 posts (True Crypto but classified wrongly as stocks) = 749 posts\n",
    "\n",
    "Instead of advertising to whole population of 675 (True Positives) + 74 (False Negatives) + 104 (False Positive) + 643 (True Negatives) = 1496 posts\n"
   ]
  },
  {
   "cell_type": "markdown",
   "metadata": {},
   "source": []
  },
  {
   "cell_type": "markdown",
   "metadata": {},
   "source": [
    "#### Future Steps"
   ]
  },
  {
   "cell_type": "markdown",
   "metadata": {},
   "source": [
    "1. Train on more subreddits to make the model more robust to different unknown datasets.\n",
    "\n",
    "2. Train our model on different social media sites e.g. Youtube comments\n",
    "\n",
    "3. Train on CryptoCurrency news articles so as to ennrich the model with CryptoCurrency keywords.\n",
    "\n",
    "4. Get more data"
   ]
  },
  {
   "cell_type": "code",
   "execution_count": null,
   "metadata": {},
   "outputs": [],
   "source": []
  }
 ],
 "metadata": {
  "kernelspec": {
   "display_name": "Python 3",
   "language": "python",
   "name": "python3"
  },
  "language_info": {
   "codemirror_mode": {
    "name": "ipython",
    "version": 3
   },
   "file_extension": ".py",
   "mimetype": "text/x-python",
   "name": "python",
   "nbconvert_exporter": "python",
   "pygments_lexer": "ipython3",
   "version": "3.7.7"
  }
 },
 "nbformat": 4,
 "nbformat_minor": 4
}
